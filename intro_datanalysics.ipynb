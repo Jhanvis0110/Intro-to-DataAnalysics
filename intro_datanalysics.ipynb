{
 "cells": [
  {
   "cell_type": "markdown",
   "id": "7304867d-490f-4392-b17b-d49baa85bc3e",
   "metadata": {},
   "source": [
    "# Statistics\n",
    "\n",
    "1 human = 5.6ft\n",
    "\n",
    "1 coconut = 200ft\n",
    "\n",
    "average/mean = 102.8(Arithmetic mean)"
   ]
  },
  {
   "cell_type": "markdown",
   "id": "85d9f679-095c-49e9-a53f-28de8e5772da",
   "metadata": {},
   "source": [
    "# Mean & its type:\n",
    "\n",
    "  1>Arithmetic mean\n",
    "    \n",
    "  2>Geometric mean\n",
    "\n",
    "  3>Harmonic mean"
   ]
  },
  {
   "cell_type": "code",
   "execution_count": 1,
   "id": "e8afdb56-c978-4b10-81bd-6ceb87f03bac",
   "metadata": {},
   "outputs": [
    {
     "data": {
      "text/plain": [
       "92.0"
      ]
     },
     "execution_count": 1,
     "metadata": {},
     "output_type": "execute_result"
    }
   ],
   "source": [
    "(92+92+92+92+92)/5     #average/arithmetic mean"
   ]
  },
  {
   "cell_type": "code",
   "execution_count": 2,
   "id": "d1c0bef6-6be0-4ffb-b6b8-828c03f03207",
   "metadata": {},
   "outputs": [
    {
     "data": {
      "text/plain": [
       "395.9797974644666"
      ]
     },
     "execution_count": 2,
     "metadata": {},
     "output_type": "execute_result"
    }
   ],
   "source": [
    "import math\n",
    "math.sqrt(5.6*200*140)"
   ]
  },
  {
   "cell_type": "code",
   "execution_count": 3,
   "id": "1eac6a35-5f84-4308-9e59-ad0a94f8207f",
   "metadata": {},
   "outputs": [
    {
     "data": {
      "text/plain": [
       "145.20000000000002"
      ]
     },
     "execution_count": 3,
     "metadata": {},
     "output_type": "execute_result"
    }
   ],
   "source": [
    "(5.6+200+230)/3"
   ]
  },
  {
   "cell_type": "code",
   "execution_count": 4,
   "id": "584ae4de-6279-4dc4-8f6a-2e16ac52fd03",
   "metadata": {},
   "outputs": [
    {
     "data": {
      "text/plain": [
       "95.28487295384882"
      ]
     },
     "execution_count": 4,
     "metadata": {},
     "output_type": "execute_result"
    }
   ],
   "source": [
    "(5.6*200*230*320)**(1/4)"
   ]
  },
  {
   "cell_type": "code",
   "execution_count": 5,
   "id": "3c66278d-1e54-4479-833e-08049035d33f",
   "metadata": {},
   "outputs": [
    {
     "data": {
      "text/plain": [
       "188.9"
      ]
     },
     "execution_count": 5,
     "metadata": {},
     "output_type": "execute_result"
    }
   ],
   "source": [
    "(5.6+200+230+320)/4"
   ]
  },
  {
   "cell_type": "raw",
   "id": "cc54c346-59e8-4e18-9b8c-c2631335356d",
   "metadata": {},
   "source": [
    "# Rate of change of velocity: Acceleration"
   ]
  },
  {
   "cell_type": "code",
   "execution_count": 6,
   "id": "e5a46b27-d317-464b-a721-4d3f0083d254",
   "metadata": {},
   "outputs": [],
   "source": [
    "import statistics as s"
   ]
  },
  {
   "cell_type": "code",
   "execution_count": 7,
   "id": "cff47c4c-3256-4f2c-b318-ca731938fde0",
   "metadata": {},
   "outputs": [
    {
     "data": {
      "text/plain": [
       "15.491933384829666"
      ]
     },
     "execution_count": 7,
     "metadata": {},
     "output_type": "execute_result"
    }
   ],
   "source": [
    "# restra A\n",
    "s.geometric_mean((3,80))    #(rating,reviews)"
   ]
  },
  {
   "cell_type": "code",
   "execution_count": 8,
   "id": "55d7ec50-42e1-4198-be5e-6f6b3f7ddf73",
   "metadata": {},
   "outputs": [
    {
     "data": {
      "text/plain": [
       "16.733200530681515"
      ]
     },
     "execution_count": 8,
     "metadata": {},
     "output_type": "execute_result"
    }
   ],
   "source": [
    "# restra B\n",
    "s.geometric_mean((4,70))   #(rating,reviews)"
   ]
  },
  {
   "cell_type": "code",
   "execution_count": 9,
   "id": "9e6e4902-44a2-4576-8148-7c32b057e2aa",
   "metadata": {},
   "outputs": [],
   "source": [
    "a=4\n",
    "b=6"
   ]
  },
  {
   "cell_type": "code",
   "execution_count": 10,
   "id": "1240856d-45de-491a-b081-5951ceed89e7",
   "metadata": {},
   "outputs": [
    {
     "data": {
      "text/plain": [
       "5"
      ]
     },
     "execution_count": 10,
     "metadata": {},
     "output_type": "execute_result"
    }
   ],
   "source": [
    "s.mean((a,b))  #arithmetic mean"
   ]
  },
  {
   "cell_type": "code",
   "execution_count": 11,
   "id": "88211974-61b0-4381-b2ab-02a36a3c8df7",
   "metadata": {},
   "outputs": [
    {
     "data": {
      "text/plain": [
       "4.898979485566356"
      ]
     },
     "execution_count": 11,
     "metadata": {},
     "output_type": "execute_result"
    }
   ],
   "source": [
    "s.geometric_mean((a,b))   #geometric mean"
   ]
  },
  {
   "cell_type": "code",
   "execution_count": 12,
   "id": "bbad478a-3a3e-4ab0-9d63-26e4c63ddda0",
   "metadata": {},
   "outputs": [
    {
     "data": {
      "text/plain": [
       "4.8"
      ]
     },
     "execution_count": 12,
     "metadata": {},
     "output_type": "execute_result"
    }
   ],
   "source": [
    "s.harmonic_mean((a,b))    #harmonic mean"
   ]
  },
  {
   "cell_type": "markdown",
   "id": "c2afb2bb-ee34-4209-9ec3-ed36550ce8da",
   "metadata": {},
   "source": [
    "# Median : center point of data\n",
    "\n",
    "Types:\n",
    "\n",
    "   1>Odd term median\n",
    "   \n",
    "   2> Even term median"
   ]
  },
  {
   "cell_type": "markdown",
   "id": "50808dab-8acb-4087-9fdd-7585cc741282",
   "metadata": {},
   "source": [
    "# Demo:1\n",
    "\n",
    "creating a sample data then sorting it into ascending order or descending order"
   ]
  },
  {
   "cell_type": "code",
   "execution_count": 13,
   "id": "0abb7924-4496-4b15-8926-2059334fc1f1",
   "metadata": {},
   "outputs": [
    {
     "name": "stdout",
     "output_type": "stream",
     "text": [
      "<class 'list'>\n"
     ]
    }
   ],
   "source": [
    "x=[3,2,4,5,7,8,6,7,8,4]\n",
    "print(type(x))"
   ]
  },
  {
   "cell_type": "markdown",
   "id": "7e9819c9-97fc-4016-a07f-1c2ed13b9a33",
   "metadata": {},
   "source": [
    "# Demo: 1.1\n",
    "\n",
    "    Odd term median:\n",
    "        \n",
    "        formula: Median=((n+1)/2)th\n",
    "        \n",
    "        where:\n",
    "            \n",
    "            n=total no of values\n",
    "            \n",
    "            th=term"
   ]
  },
  {
   "cell_type": "code",
   "execution_count": 14,
   "id": "369aa5f6-562e-46e5-adc9-12343ee6c970",
   "metadata": {},
   "outputs": [],
   "source": [
    "x=[3,2,4,5,7,8,6,7,8]    #odd term median"
   ]
  },
  {
   "cell_type": "code",
   "execution_count": 15,
   "id": "3e0d75f3-b2a5-446c-8faa-87bde759e8ce",
   "metadata": {},
   "outputs": [],
   "source": [
    "x.sort()"
   ]
  },
  {
   "cell_type": "code",
   "execution_count": 16,
   "id": "f8e53f44-4134-4f87-8409-4467d5fb3261",
   "metadata": {},
   "outputs": [
    {
     "data": {
      "text/plain": [
       "[2, 3, 4, 5, 6, 7, 7, 8, 8]"
      ]
     },
     "execution_count": 16,
     "metadata": {},
     "output_type": "execute_result"
    }
   ],
   "source": [
    "x"
   ]
  },
  {
   "cell_type": "code",
   "execution_count": 17,
   "id": "0120d77f-b070-4be7-a885-519620302c51",
   "metadata": {},
   "outputs": [
    {
     "data": {
      "text/plain": [
       "9"
      ]
     },
     "execution_count": 17,
     "metadata": {},
     "output_type": "execute_result"
    }
   ],
   "source": [
    "len(x)"
   ]
  },
  {
   "cell_type": "markdown",
   "id": "0c5dc1d6-0843-456b-aa16-a0fb8d1e9369",
   "metadata": {},
   "source": [
    "# Demo: 1.2\n",
    "\n",
    " Even term median:\n",
    "        \n",
    "  formula: Median=((n/2)th+((n/2)+1)th)/2\n",
    "        \n",
    "        where:\n",
    "            \n",
    "            n=no of terms\n",
    "            \n",
    "            th=term"
   ]
  },
  {
   "cell_type": "code",
   "execution_count": 18,
   "id": "554bf6d6-1419-44f0-a3f8-0e03fae7d74b",
   "metadata": {},
   "outputs": [
    {
     "data": {
      "text/plain": [
       "10"
      ]
     },
     "execution_count": 18,
     "metadata": {},
     "output_type": "execute_result"
    }
   ],
   "source": [
    "y=[0,1,2,3,4,5,6,7,8,9]   # odd term median\n",
    "len(y)"
   ]
  },
  {
   "cell_type": "code",
   "execution_count": 19,
   "id": "92e649fb-8f23-44f2-8ed1-8505cab09402",
   "metadata": {},
   "outputs": [
    {
     "name": "stdout",
     "output_type": "stream",
     "text": [
      "Sorted data in ascending order : [2, 3, 3, 4, 4, 5, 6, 6, 7, 8]\n",
      "length : 10\n"
     ]
    }
   ],
   "source": [
    "z=[3,4,2,3,4,5,6,7,8,6]\n",
    "z.sort()\n",
    "print(\"Sorted data in ascending order :\",z)\n",
    "print(\"length :\",len(z))"
   ]
  },
  {
   "cell_type": "code",
   "execution_count": 20,
   "id": "505e19c9-37ae-4ae6-ab33-d3906c340627",
   "metadata": {},
   "outputs": [],
   "source": [
    "def myMedian(n):\n",
    "    if type(n)==tuple:\n",
    "        n=list(n)\n",
    "        n.sort()\n",
    "    else:\n",
    "        n.sort()\n",
    "    print((n[(len(n)//2)]+n[((len(n)//2)+1)])/2)"
   ]
  },
  {
   "cell_type": "code",
   "execution_count": 21,
   "id": "f5e0dc09-f03b-48e0-8bf8-c0dd0f65ed11",
   "metadata": {},
   "outputs": [
    {
     "name": "stdout",
     "output_type": "stream",
     "text": [
      "5.5\n"
     ]
    }
   ],
   "source": [
    "myMedian(z)"
   ]
  },
  {
   "cell_type": "code",
   "execution_count": 22,
   "id": "6a05c15a-fbc0-441f-954a-a54055ce0a9f",
   "metadata": {},
   "outputs": [],
   "source": [
    "def myMedian(n):\n",
    "    if type(n)==tuple:\n",
    "        n=list(n)\n",
    "        n.sort()\n",
    "    else:\n",
    "        n.sort()\n",
    "    print((n[(len(n)//2)-1]+n[((len(n)//2)+1)-1])/2)   #where we use -1 because indexing strt from 0 "
   ]
  },
  {
   "cell_type": "code",
   "execution_count": 23,
   "id": "5c6603b8-7e9d-44d1-aea2-d395dfd9cff9",
   "metadata": {},
   "outputs": [
    {
     "name": "stdout",
     "output_type": "stream",
     "text": [
      "4.5\n"
     ]
    }
   ],
   "source": [
    "myMedian(z)\n"
   ]
  },
  {
   "cell_type": "code",
   "execution_count": 24,
   "id": "06f288b8-8805-4ff1-83de-8490df74dbb0",
   "metadata": {},
   "outputs": [
    {
     "data": {
      "text/plain": [
       "3"
      ]
     },
     "execution_count": 24,
     "metadata": {},
     "output_type": "execute_result"
    }
   ],
   "source": [
    "z[1]"
   ]
  },
  {
   "cell_type": "code",
   "execution_count": 25,
   "id": "63ce1aad-a05f-47e1-8565-19434734ac4f",
   "metadata": {},
   "outputs": [
    {
     "data": {
      "text/plain": [
       "5"
      ]
     },
     "execution_count": 25,
     "metadata": {},
     "output_type": "execute_result"
    }
   ],
   "source": [
    "10//2"
   ]
  },
  {
   "cell_type": "code",
   "execution_count": 26,
   "id": "103711a8-d771-4b2a-993c-7aac5df24390",
   "metadata": {},
   "outputs": [
    {
     "data": {
      "text/plain": [
       "5.0"
      ]
     },
     "execution_count": 26,
     "metadata": {},
     "output_type": "execute_result"
    }
   ],
   "source": [
    "10/2"
   ]
  },
  {
   "cell_type": "code",
   "execution_count": 27,
   "id": "05783978-acdd-4c73-bccc-db3c075b9004",
   "metadata": {},
   "outputs": [
    {
     "name": "stdout",
     "output_type": "stream",
     "text": [
      "Sorted data in ascending order : [3, 4, 2, 4, 3, 8, 5, 6, 7, 6]\n",
      "length : 10\n"
     ]
    }
   ],
   "source": [
    "z=[3,4,2,4,3,8,5,6,7,6]\n",
    "z_tuple=(3,4,2,3,8,7,5,6,6)\n",
    "#z.sort()\n",
    "print(\"Sorted data in ascending order :\",z)\n",
    "print(\"length :\",len(z))"
   ]
  },
  {
   "cell_type": "code",
   "execution_count": 28,
   "id": "ef10e115-4521-4c89-9ce5-52fbef997263",
   "metadata": {},
   "outputs": [],
   "source": [
    "def myMedian(n):\n",
    "    if type(n)==tuple:\n",
    "        n=list(n)\n",
    "        n.sort()\n",
    "    else:\n",
    "        n.sort()\n",
    "    print((n[(len(n)//2)-1]+n[((len(n)//2)+1)-1])/2) "
   ]
  },
  {
   "cell_type": "code",
   "execution_count": 29,
   "id": "09fcc604-0fc0-46cf-aef0-28fd90aa42ea",
   "metadata": {},
   "outputs": [
    {
     "name": "stdout",
     "output_type": "stream",
     "text": [
      "4.5\n",
      "4.5\n"
     ]
    }
   ],
   "source": [
    "myMedian(z)\n",
    "myMedian(z_tuple)"
   ]
  },
  {
   "cell_type": "markdown",
   "id": "bd784cfe-8d3c-48b2-833b-f823ff037d09",
   "metadata": {},
   "source": [
    "# Demo:1.2.1\n",
    "\n",
    "even median and odd mediancalculation using statistics module of python"
   ]
  },
  {
   "cell_type": "code",
   "execution_count": 30,
   "id": "6ac4c521-51e0-4727-9468-85f348e3c90e",
   "metadata": {},
   "outputs": [],
   "source": [
    "z=[3,4,2,3,4,5,6,7,8,6]"
   ]
  },
  {
   "cell_type": "code",
   "execution_count": 31,
   "id": "8244b893-85af-4a0f-bfea-9db3a371ea1e",
   "metadata": {},
   "outputs": [
    {
     "data": {
      "text/plain": [
       "4.5"
      ]
     },
     "execution_count": 31,
     "metadata": {},
     "output_type": "execute_result"
    }
   ],
   "source": [
    "s.median(z)"
   ]
  },
  {
   "cell_type": "code",
   "execution_count": 32,
   "id": "650a41cd-3620-40a3-92cc-4cb88d1477c2",
   "metadata": {},
   "outputs": [],
   "source": [
    "y=[0,1,2,3,4,5,6,7,8,9]"
   ]
  },
  {
   "cell_type": "code",
   "execution_count": 33,
   "id": "53570465-4122-40a9-9246-065e9c5f2a68",
   "metadata": {},
   "outputs": [
    {
     "data": {
      "text/plain": [
       "6"
      ]
     },
     "execution_count": 33,
     "metadata": {},
     "output_type": "execute_result"
    }
   ],
   "source": [
    "s.median(x)"
   ]
  },
  {
   "cell_type": "code",
   "execution_count": 34,
   "id": "a7dea30c-8991-41cc-81c4-3012d88424f7",
   "metadata": {},
   "outputs": [],
   "source": [
    "a=list((3,4,2,3,4,5,6,7,8,6))"
   ]
  },
  {
   "cell_type": "code",
   "execution_count": 35,
   "id": "cf2a7335-d2ec-4ad5-90e4-33f3565559ad",
   "metadata": {},
   "outputs": [
    {
     "data": {
      "text/plain": [
       "[2, 3, 3, 4, 4, 5, 6, 6, 7, 8]"
      ]
     },
     "execution_count": 35,
     "metadata": {},
     "output_type": "execute_result"
    }
   ],
   "source": [
    "a.sort()\n",
    "a"
   ]
  },
  {
   "cell_type": "markdown",
   "id": "571c5859-1429-4d5f-9cd7-9ff7f66cf7cc",
   "metadata": {},
   "source": [
    "# Mode\n",
    "\n",
    "help to get highest occuring value in the dataset"
   ]
  },
  {
   "cell_type": "code",
   "execution_count": 36,
   "id": "911fb930-4c98-4dbb-80f7-12281d28082b",
   "metadata": {},
   "outputs": [],
   "source": [
    "m=[2,3,3,4,4,5,6,6,7,8]"
   ]
  },
  {
   "cell_type": "code",
   "execution_count": 37,
   "id": "9b68f856-849d-4a27-9519-1fb49a87e54b",
   "metadata": {},
   "outputs": [
    {
     "data": {
      "text/plain": [
       "3"
      ]
     },
     "execution_count": 37,
     "metadata": {},
     "output_type": "execute_result"
    }
   ],
   "source": [
    "s.mode(m)"
   ]
  },
  {
   "cell_type": "code",
   "execution_count": 38,
   "id": "a982e860-0a15-4a1c-81fa-a043f76b086a",
   "metadata": {},
   "outputs": [
    {
     "data": {
      "text/plain": [
       "[3, 4, 6]"
      ]
     },
     "execution_count": 38,
     "metadata": {},
     "output_type": "execute_result"
    }
   ],
   "source": [
    "s.multimode(m)"
   ]
  },
  {
   "cell_type": "raw",
   "id": "6ede5e0b-331b-4018-a5a4-22a0f44e314f",
   "metadata": {},
   "source": [
    "# MEAN:\n",
    "    \n",
    "    >Arithmetic mean\n",
    "    >Geometric mean\n",
    "    >Harmonic mean\n",
    "    \n",
    "MEDIAN:\n",
    "    \n",
    "    >Odd term median\n",
    "     >Even term median\n",
    "    \n",
    "MODE:\n",
    "    \n",
    "    >Single mode\n",
    "    >Multimode\n",
    "    \n",
    "QUANTILES:\n",
    "    \n",
    "    >Q1\n",
    "    >Q2\n",
    "    >Q3\n",
    "    \n",
    "IQR(InterQuartile Range):\n",
    "    IQR=(Q3-Q1)\n",
    "    \n",
    "Max_Trend:\n",
    "    \n",
    "Min_Trend:\n",
    "    \n",
    "Structure Data:\n",
    "    \n",
    "Unstructured Data:\n",
    "    \n",
    "    >Numpy\n",
    "    \n",
    "VISUALIZATION:\n",
    "    \n",
    "    TUI(Textual User Interface)\n",
    "    \n",
    "          >Matplolib\n",
    "          >Seaborn\n",
    "            \n",
    "    GUI(Graphical User Interface)\n",
    "    \n",
    "        >Tableau\n",
    "        >Power BI\n",
    "        \n"
   ]
  },
  {
   "cell_type": "markdown",
   "id": "5f048574-302b-4276-9974-e8451fa22214",
   "metadata": {},
   "source": [
    "# Quantiles:\n",
    "\n",
    "statistics k andr ek method h quantile"
   ]
  },
  {
   "cell_type": "code",
   "execution_count": 39,
   "id": "058b5b48-c0db-4807-a92f-00978470ccd3",
   "metadata": {},
   "outputs": [],
   "source": [
    "x=[1,2,3,4,5,6,7,8]"
   ]
  },
  {
   "cell_type": "code",
   "execution_count": 40,
   "id": "b1d71abe-5f45-40a8-8529-139ec6bd5a55",
   "metadata": {},
   "outputs": [
    {
     "data": {
      "text/plain": [
       "[2.25, 4.5, 6.75]"
      ]
     },
     "execution_count": 40,
     "metadata": {},
     "output_type": "execute_result"
    }
   ],
   "source": [
    "s.quantiles(x)"
   ]
  },
  {
   "cell_type": "code",
   "execution_count": 41,
   "id": "d200a7b6-b63e-427c-95a0-cbf6a0cdc1fc",
   "metadata": {},
   "outputs": [],
   "source": [
    "y=[2,2,3,3.24,6,6.1,8,8.1]"
   ]
  },
  {
   "cell_type": "code",
   "execution_count": 43,
   "id": "e52ac4d8-2cc3-4890-8358-b289381a5aaf",
   "metadata": {},
   "outputs": [],
   "source": [
    "q1,q2,q3=s.quantiles(y)"
   ]
  },
  {
   "cell_type": "code",
   "execution_count": 43,
   "id": "eb4880c7",
   "metadata": {},
   "outputs": [],
   "source": [
    "q1,q2,q3=s.quantiles(y)"
   ]
  },
  {
   "cell_type": "code",
   "execution_count": 44,
   "id": "ea52b98b-c229-4cc2-b4a2-96867b70b10b",
   "metadata": {},
   "outputs": [
    {
     "data": {
      "text/plain": [
       "2.25"
      ]
     },
     "execution_count": 44,
     "metadata": {},
     "output_type": "execute_result"
    }
   ],
   "source": [
    "q1"
   ]
  },
  {
   "cell_type": "code",
   "execution_count": 45,
   "id": "5a64e14b-230c-4b40-80ff-f65a317820bc",
   "metadata": {},
   "outputs": [
    {
     "data": {
      "text/plain": [
       "4.62"
      ]
     },
     "execution_count": 45,
     "metadata": {},
     "output_type": "execute_result"
    }
   ],
   "source": [
    "q2"
   ]
  },
  {
   "cell_type": "code",
   "execution_count": 46,
   "id": "7c532396-b967-4493-8a10-ff39b117265d",
   "metadata": {},
   "outputs": [
    {
     "data": {
      "text/plain": [
       "7.525"
      ]
     },
     "execution_count": 46,
     "metadata": {},
     "output_type": "execute_result"
    }
   ],
   "source": [
    "q3\n"
   ]
  },
  {
   "cell_type": "code",
   "execution_count": 47,
   "id": "4ab84d23-d3fe-47fa-bc4e-1ebddba29ad4",
   "metadata": {},
   "outputs": [],
   "source": [
    "IQR=q1-q3"
   ]
  },
  {
   "cell_type": "code",
   "execution_count": 48,
   "id": "8563cf3d-fed0-417c-a2a9-5c7f9ce6e4a0",
   "metadata": {},
   "outputs": [
    {
     "name": "stdout",
     "output_type": "stream",
     "text": [
      "-5.275\n"
     ]
    }
   ],
   "source": [
    "print(IQR)"
   ]
  },
  {
   "cell_type": "code",
   "execution_count": 49,
   "id": "c7d443a1-7afb-471d-9151-5c59c64c826e",
   "metadata": {},
   "outputs": [
    {
     "name": "stdout",
     "output_type": "stream",
     "text": [
      "5.275\n"
     ]
    }
   ],
   "source": [
    "IQR2=abs(q3-q1)\n",
    "print(IQR2)"
   ]
  },
  {
   "cell_type": "markdown",
   "id": "05dd7889-8f98-4a8f-8788-8a28c950811d",
   "metadata": {},
   "source": [
    "# What is Trend?"
   ]
  },
  {
   "cell_type": "code",
   "execution_count": 50,
   "id": "035b45a8-c5c7-43d2-97f9-03df4273d61a",
   "metadata": {},
   "outputs": [],
   "source": [
    "dataset=[100,100000,200000,300000,320000]"
   ]
  },
  {
   "cell_type": "code",
   "execution_count": 51,
   "id": "9d87ec02-cf77-4bf3-8aab-cf0a6fda4617",
   "metadata": {},
   "outputs": [
    {
     "data": {
      "text/plain": [
       "[50050.0, 200000.0, 310000.0]"
      ]
     },
     "execution_count": 51,
     "metadata": {},
     "output_type": "execute_result"
    }
   ],
   "source": [
    "q1,q2,q3=s.quantiles(dataset)\n",
    "s.quantiles(dataset)"
   ]
  },
  {
   "cell_type": "code",
   "execution_count": 52,
   "id": "9df11329-5c66-47a7-9288-3965c544f321",
   "metadata": {},
   "outputs": [
    {
     "data": {
      "text/plain": [
       "309992.0875"
      ]
     },
     "execution_count": 52,
     "metadata": {},
     "output_type": "execute_result"
    }
   ],
   "source": [
    "Max_trend=q3+1.5*(IQR)\n",
    "Max_trend"
   ]
  },
  {
   "cell_type": "code",
   "execution_count": 53,
   "id": "ef05053d-c44b-4246-a167-b88fc0c9351c",
   "metadata": {},
   "outputs": [
    {
     "data": {
      "text/plain": [
       "50057.9125"
      ]
     },
     "execution_count": 53,
     "metadata": {},
     "output_type": "execute_result"
    }
   ],
   "source": [
    "Min_trend=q1-1.5*IQR\n",
    "Min_trend"
   ]
  },
  {
   "cell_type": "code",
   "execution_count": 55,
   "id": "050dbda8-71e2-4486-b2c5-fe5b30207473",
   "metadata": {},
   "outputs": [
    {
     "name": "stdout",
     "output_type": "stream",
     "text": [
      "[100000, 200000, 300000]\n"
     ]
    }
   ],
   "source": [
    "filter_dataset=[]\n",
    "for i in dataset:\n",
    "    if Min_trend<i<Max_trend:\n",
    "        filter_dataset.append(i)\n",
    "print(filter_dataset)\n",
    "    "
   ]
  },
  {
   "cell_type": "code",
   "execution_count": 55,
   "id": "534398c5",
   "metadata": {},
   "outputs": [
    {
     "name": "stdout",
     "output_type": "stream",
     "text": [
      "[100000, 200000, 300000]\n"
     ]
    }
   ],
   "source": [
    "filter_dataset=[]\n",
    "for i in dataset:\n",
    "    if Min_trend<i<Max_trend:\n",
    "        filter_dataset.append(i)\n",
    "print(filter_dataset)\n",
    "    "
   ]
  },
  {
   "cell_type": "markdown",
   "id": "9ac2cebf-7be5-4ab7-b431-07433c35f0d5",
   "metadata": {},
   "source": [
    "# Name of the tools, hold structure data.\n",
    "Database(sql database(strucutred data))\n",
    "\n",
    "Html table\n",
    "\n",
    "xml\n",
    "\n",
    "wml(mobile appl work as xml called semi-structured data)\n",
    "\n",
    "excel(semi-structured data)\n",
    "\n",
    "ms access\n",
    "\n",
    "etc.."
   ]
  },
  {
   "cell_type": "markdown",
   "id": "ff8c2622-4d06-4575-8354-c67f132da42d",
   "metadata": {},
   "source": [
    "# Unstructured data\n",
    "\n",
    "a dataset which has no level of it column called unstructured.\n",
    "\n",
    "tools: Numpy (2005) (numpy built in c++) \n",
    "\n",
    "Definition of array:-->An array contain similar type of data or values."
   ]
  },
  {
   "cell_type": "markdown",
   "id": "663d30a4-05e1-48f8-a69e-f448e07e3b77",
   "metadata": {},
   "source": [
    "# Numpy\n",
    "\n",
    "numpy has dual nature.\n",
    "\n",
    "numpy has support of function and class but in some cases."
   ]
  },
  {
   "cell_type": "code",
   "execution_count": 56,
   "id": "518e25e8-5456-491d-96d7-d6a8cf8ac9e2",
   "metadata": {},
   "outputs": [
    {
     "name": "stdout",
     "output_type": "stream",
     "text": [
      "Requirement already satisfied: numpy in c:\\users\\dell\\appdata\\local\\programs\\python\\python311\\lib\\site-packages (1.24.1)Note: you may need to restart the kernel to use updated packages.\n",
      "\n"
     ]
    }
   ],
   "source": [
    "pip install numpy"
   ]
  },
  {
   "cell_type": "code",
   "execution_count": 1,
   "id": "05fd9b7a-84a3-4cf5-853f-7f640669ffa6",
   "metadata": {},
   "outputs": [],
   "source": [
    "import numpy as np"
   ]
  },
  {
   "cell_type": "code",
   "execution_count": 2,
   "id": "b470af98-a94f-44d7-91c9-14edbbfdaca6",
   "metadata": {},
   "outputs": [],
   "source": [
    "a=np.array([1,2,3,4,5,6,7,8,9,0])"
   ]
  },
  {
   "cell_type": "code",
   "execution_count": 3,
   "id": "2f059fa3-4158-4b7f-a6ee-e8a39eccbcab",
   "metadata": {},
   "outputs": [
    {
     "data": {
      "text/plain": [
       "array([1, 2, 3, 4, 5, 6, 7, 8, 9, 0])"
      ]
     },
     "execution_count": 3,
     "metadata": {},
     "output_type": "execute_result"
    }
   ],
   "source": [
    "a"
   ]
  },
  {
   "cell_type": "code",
   "execution_count": 4,
   "id": "14705af8-6641-49bd-80a1-fcc2a36d877b",
   "metadata": {},
   "outputs": [
    {
     "name": "stdout",
     "output_type": "stream",
     "text": [
      "[1 2 3 4 5 6 7 8 9 0]\n"
     ]
    }
   ],
   "source": [
    "print(a)"
   ]
  },
  {
   "cell_type": "code",
   "execution_count": 5,
   "id": "106b2244-dc85-4f18-bbdd-6691c07353da",
   "metadata": {},
   "outputs": [
    {
     "name": "stdout",
     "output_type": "stream",
     "text": [
      "[1, 2, 3, 4, 5, 6, 7, 8, 9, 0]\n"
     ]
    }
   ],
   "source": [
    "b=[1,2,3,4,5,6,7,8,9,0]\n",
    "print(b)"
   ]
  },
  {
   "cell_type": "code",
   "execution_count": 6,
   "id": "0e9d5a5f-870d-4a9e-abfa-8a300bb7a9ce",
   "metadata": {},
   "outputs": [
    {
     "name": "stdout",
     "output_type": "stream",
     "text": [
      "[1, 'Krishna', 1.2]\n"
     ]
    }
   ],
   "source": [
    "c=[1,'Krishna',1.2]\n",
    "print(c)"
   ]
  },
  {
   "cell_type": "code",
   "execution_count": 7,
   "id": "5703afe7-8f7a-4254-8736-52a105d40d9f",
   "metadata": {},
   "outputs": [
    {
     "name": "stdout",
     "output_type": "stream",
     "text": [
      "['1' 'Krishna' '1.2']\n"
     ]
    }
   ],
   "source": [
    "d=np.array([1,'Krishna',1.2])\n",
    "print(d)"
   ]
  },
  {
   "cell_type": "code",
   "execution_count": 8,
   "id": "bded7e19-5b73-405e-a352-9dbb6ade30d2",
   "metadata": {},
   "outputs": [
    {
     "name": "stdout",
     "output_type": "stream",
     "text": [
      "[1.  2.  3.  4.  5.  1.2]\n"
     ]
    }
   ],
   "source": [
    "e=np.array([1,2,3,4,5,1.2])\n",
    "print(e)"
   ]
  },
  {
   "cell_type": "code",
   "execution_count": 9,
   "id": "dc6b5ebd-2617-4046-a78d-a99103a65087",
   "metadata": {},
   "outputs": [
    {
     "name": "stdout",
     "output_type": "stream",
     "text": [
      "['1' '2' '3' '4' '5' '1.2' 'krishna']\n"
     ]
    }
   ],
   "source": [
    "f=np.array([1,2,3,4,5,1.2,\"krishna\"])\n",
    "print(f)"
   ]
  },
  {
   "cell_type": "code",
   "execution_count": 10,
   "id": "8500ce73-d2dd-4ce7-8ad6-2f781120686b",
   "metadata": {},
   "outputs": [
    {
     "name": "stdout",
     "output_type": "stream",
     "text": [
      "['1' '2' '3' '4' '5' '1.2' '1']\n"
     ]
    }
   ],
   "source": [
    "f=np.array([1,2,3,4,5,1.2,\"1\"])\n",
    "print(f)"
   ]
  },
  {
   "cell_type": "code",
   "execution_count": 11,
   "id": "0d4e2115-d6b1-4053-bcad-aa1e6f47d999",
   "metadata": {},
   "outputs": [
    {
     "name": "stdout",
     "output_type": "stream",
     "text": [
      "[1 2 3 4 5 1 1]\n"
     ]
    }
   ],
   "source": [
    "f=np.array([1,2,3,4,5,1.2,\"1\"],dtype=np.int8)\n",
    "print(f)"
   ]
  },
  {
   "cell_type": "code",
   "execution_count": 12,
   "id": "f5a6ed75-3f52-498c-a0f7-a3d1cf01a14e",
   "metadata": {},
   "outputs": [
    {
     "data": {
      "text/plain": [
       "'0b1010'"
      ]
     },
     "execution_count": 12,
     "metadata": {},
     "output_type": "execute_result"
    }
   ],
   "source": [
    "bin(10)"
   ]
  },
  {
   "cell_type": "code",
   "execution_count": 13,
   "id": "eb8d0abd-0364-48bd-9117-274a09a8c1d1",
   "metadata": {},
   "outputs": [
    {
     "data": {
      "text/plain": [
       "127"
      ]
     },
     "execution_count": 13,
     "metadata": {},
     "output_type": "execute_result"
    }
   ],
   "source": [
    "64+32+16+8+4+2+1"
   ]
  },
  {
   "cell_type": "code",
   "execution_count": 14,
   "id": "975753bd-1994-4180-8a1e-d63e803139ad",
   "metadata": {},
   "outputs": [
    {
     "data": {
      "text/plain": [
       "1"
      ]
     },
     "execution_count": 14,
     "metadata": {},
     "output_type": "execute_result"
    }
   ],
   "source": [
    "f=np.array([1,2,3,4,5,6])\n",
    "min(f)"
   ]
  },
  {
   "cell_type": "code",
   "execution_count": 15,
   "id": "b96cc83d-4448-47a3-be3f-2882ca8137e9",
   "metadata": {},
   "outputs": [
    {
     "ename": "ValueError",
     "evalue": "invalid literal for int() with base 10: '10.0'",
     "output_type": "error",
     "traceback": [
      "\u001b[1;31m---------------------------------------------------------------------------\u001b[0m",
      "\u001b[1;31mValueError\u001b[0m                                Traceback (most recent call last)",
      "Cell \u001b[1;32mIn[15], line 1\u001b[0m\n\u001b[1;32m----> 1\u001b[0m f\u001b[38;5;241m=\u001b[39m\u001b[43mnp\u001b[49m\u001b[38;5;241;43m.\u001b[39;49m\u001b[43marray\u001b[49m\u001b[43m(\u001b[49m\u001b[43m[\u001b[49m\u001b[38;5;241;43m1\u001b[39;49m\u001b[43m,\u001b[49m\u001b[38;5;241;43m2\u001b[39;49m\u001b[43m,\u001b[49m\u001b[38;5;241;43m3\u001b[39;49m\u001b[43m,\u001b[49m\u001b[38;5;241;43m4\u001b[39;49m\u001b[43m,\u001b[49m\u001b[38;5;241;43m5\u001b[39;49m\u001b[43m,\u001b[49m\u001b[38;5;241;43m1.2\u001b[39;49m\u001b[43m,\u001b[49m\u001b[38;5;124;43m\"\u001b[39;49m\u001b[38;5;124;43m10.0\u001b[39;49m\u001b[38;5;124;43m\"\u001b[39;49m\u001b[43m]\u001b[49m\u001b[43m,\u001b[49m\u001b[43mdtype\u001b[49m\u001b[38;5;241;43m=\u001b[39;49m\u001b[43mnp\u001b[49m\u001b[38;5;241;43m.\u001b[39;49m\u001b[43mint16\u001b[49m\u001b[43m)\u001b[49m\n\u001b[0;32m      2\u001b[0m \u001b[38;5;28mprint\u001b[39m(f)\n",
      "\u001b[1;31mValueError\u001b[0m: invalid literal for int() with base 10: '10.0'"
     ]
    }
   ],
   "source": [
    "f=np.array([1,2,3,4,5,1.2,\"10.0\"],dtype=np.int16)\n",
    "print(f)"
   ]
  },
  {
   "cell_type": "code",
   "execution_count": 16,
   "id": "88427882-a226-4129-ab74-60d160099da4",
   "metadata": {},
   "outputs": [
    {
     "ename": "ValueError",
     "evalue": "invalid literal for int() with base 10: '10.0'",
     "output_type": "error",
     "traceback": [
      "\u001b[1;31m---------------------------------------------------------------------------\u001b[0m",
      "\u001b[1;31mValueError\u001b[0m                                Traceback (most recent call last)",
      "Cell \u001b[1;32mIn[16], line 2\u001b[0m\n\u001b[0;32m      1\u001b[0m a\u001b[38;5;241m=\u001b[39m\u001b[38;5;124m\"\u001b[39m\u001b[38;5;124m10.0\u001b[39m\u001b[38;5;124m\"\u001b[39m\n\u001b[1;32m----> 2\u001b[0m \u001b[38;5;28;43mint\u001b[39;49m\u001b[43m(\u001b[49m\u001b[43ma\u001b[49m\u001b[43m)\u001b[49m\n",
      "\u001b[1;31mValueError\u001b[0m: invalid literal for int() with base 10: '10.0'"
     ]
    }
   ],
   "source": [
    "a=\"10.0\"\n",
    "int(a)"
   ]
  },
  {
   "cell_type": "code",
   "execution_count": 17,
   "id": "822763f5-fd3c-4cf5-b37e-6af19e84d082",
   "metadata": {},
   "outputs": [
    {
     "name": "stdout",
     "output_type": "stream",
     "text": [
      "[ 1  2  3  4  5  1 10]\n"
     ]
    }
   ],
   "source": [
    "f=np.array([1,2,3,4,5,1.2,\"10\"],dtype=np.int8)\n",
    "print(f)"
   ]
  },
  {
   "cell_type": "code",
   "execution_count": 18,
   "id": "f049e3f8-a134-4870-8060-cddcd14f8ab0",
   "metadata": {},
   "outputs": [
    {
     "name": "stdout",
     "output_type": "stream",
     "text": [
      "[ 1.   2.   3.   4.   5.   1.2 10. ]\n",
      "[ 1  2  3  4  5  1 10]\n"
     ]
    }
   ],
   "source": [
    "f=np.array([1,2,3,4,5,1.2,\"10.0\"],dtype=np.float16)    # to convert list into int from str we will firstly convert into float then int\n",
    "print(f)\n",
    "g=np.array(f,dtype=np.int16)\n",
    "print(g)"
   ]
  },
  {
   "cell_type": "code",
   "execution_count": 19,
   "id": "61ebd4cf-41a7-4f2a-a259-f3398682ca7e",
   "metadata": {},
   "outputs": [
    {
     "name": "stdout",
     "output_type": "stream",
     "text": [
      "['1' '2' '3' '4' '5' '6']\n"
     ]
    }
   ],
   "source": [
    "h=np.array([1,2,3,4,5,6],dtype=np.str_)       # to convert list into string\n",
    "print(h)"
   ]
  },
  {
   "cell_type": "markdown",
   "id": "ce691caf-06e1-42ab-ab5f-4ef6fac4341f",
   "metadata": {},
   "source": [
    "# There are three types of array\n",
    "\n",
    "1> Scaler --> a value which  has no(0)dimension. (jisme sirf magnitude hota h means no direction)\n",
    "\n",
    "2>Vector(jisme magnitude direction dono ho)\n",
    "\n",
    "3>Matrix"
   ]
  },
  {
   "cell_type": "code",
   "execution_count": 20,
   "id": "ebf4b6a7-5570-4282-8a49-db220c43d453",
   "metadata": {},
   "outputs": [
    {
     "name": "stdout",
     "output_type": "stream",
     "text": [
      "[100]\n"
     ]
    },
    {
     "data": {
      "text/plain": [
       "array([100])"
      ]
     },
     "execution_count": 20,
     "metadata": {},
     "output_type": "execute_result"
    }
   ],
   "source": [
    "i=np.array([100])\n",
    "print(i)\n",
    "i                  # scaler array has no dimension or 0 dimension"
   ]
  },
  {
   "cell_type": "code",
   "execution_count": 21,
   "id": "9ae516a1-cfa6-4d8b-a2cf-685eacd2b9f7",
   "metadata": {},
   "outputs": [
    {
     "name": "stdout",
     "output_type": "stream",
     "text": [
      "[100 111   2   3   4   5   6]\n"
     ]
    },
    {
     "data": {
      "text/plain": [
       "array([100, 111,   2,   3,   4,   5,   6])"
      ]
     },
     "execution_count": 21,
     "metadata": {},
     "output_type": "execute_result"
    }
   ],
   "source": [
    "j=np.array([100,111,2,3,4,5,6])     # 1 dimensional array of vector\n",
    "print(j)\n",
    "j"
   ]
  },
  {
   "cell_type": "code",
   "execution_count": 22,
   "id": "d7df35d0-fc2e-4199-bbbb-666eed868aa6",
   "metadata": {},
   "outputs": [
    {
     "name": "stdout",
     "output_type": "stream",
     "text": [
      "[[1 2]\n",
      " [2 3]]\n"
     ]
    },
    {
     "data": {
      "text/plain": [
       "2"
      ]
     },
     "execution_count": 22,
     "metadata": {},
     "output_type": "execute_result"
    }
   ],
   "source": [
    "k=np.array([[1,2],[2,3]])     # 2 Dimensional array called matrix, diagonal matrix\n",
    "print(k)\n",
    "k\n",
    "k.ndim"
   ]
  },
  {
   "cell_type": "code",
   "execution_count": 23,
   "id": "99dfc191-ce29-4fc1-8354-70d78b9b2bd0",
   "metadata": {},
   "outputs": [
    {
     "name": "stdout",
     "output_type": "stream",
     "text": [
      "[[[100]]]\n"
     ]
    },
    {
     "data": {
      "text/plain": [
       "array([[[100]]])"
      ]
     },
     "execution_count": 23,
     "metadata": {},
     "output_type": "execute_result"
    }
   ],
   "source": [
    "l=np.array([[[100]]])\n",
    "print(l)\n",
    "l"
   ]
  },
  {
   "cell_type": "code",
   "execution_count": 24,
   "id": "f9acdea3-2883-419b-972d-962b70831f87",
   "metadata": {},
   "outputs": [
    {
     "name": "stdout",
     "output_type": "stream",
     "text": [
      "[[[1 2]\n",
      "  [2 3]]\n",
      "\n",
      " [[4 3]\n",
      "  [8 9]]]\n"
     ]
    }
   ],
   "source": [
    "l=np.array([[[1,2],[2,3]],[[4,3],[8,9]]])    # 3 Dimensional array\n",
    "print(l)"
   ]
  },
  {
   "cell_type": "code",
   "execution_count": 25,
   "id": "7be88995-5d85-4dce-ab5d-4d0f04e4040d",
   "metadata": {},
   "outputs": [
    {
     "name": "stdout",
     "output_type": "stream",
     "text": [
      "[[[1 2]\n",
      "  [2 3]]\n",
      "\n",
      " [[4 3]\n",
      "  [8 9]]]\n"
     ]
    },
    {
     "data": {
      "text/plain": [
       "3"
      ]
     },
     "execution_count": 25,
     "metadata": {},
     "output_type": "execute_result"
    }
   ],
   "source": [
    "l=np.array([[[1,2],[2,3]],[[4,3],[8,9]]])    \n",
    "print(l)\n",
    "l.ndim    # ndim is function which is no. of dimensions"
   ]
  },
  {
   "cell_type": "code",
   "execution_count": 26,
   "id": "65fc14ef-a704-4d69-823d-f2f2eba71e9a",
   "metadata": {},
   "outputs": [],
   "source": [
    "toy=np.array(['video game','trum card','contra','computer'])"
   ]
  },
  {
   "cell_type": "code",
   "execution_count": 27,
   "id": "cb823104-76ce-4087-8530-12ab35df3c80",
   "metadata": {},
   "outputs": [
    {
     "data": {
      "text/plain": [
       "array(['video game', 'trum card', 'contra', 'computer'], dtype='<U10')"
      ]
     },
     "execution_count": 27,
     "metadata": {},
     "output_type": "execute_result"
    }
   ],
   "source": [
    "toy"
   ]
  },
  {
   "cell_type": "code",
   "execution_count": 28,
   "id": "0a982571-2b8c-472e-b1a8-a99c9049270c",
   "metadata": {},
   "outputs": [],
   "source": [
    "marks=np.array([[1,'A',75,50,70],[2,'B',33,40,80],[3,'C',90,100,91]])"
   ]
  },
  {
   "cell_type": "code",
   "execution_count": 29,
   "id": "fc2ef23a-d54d-47b7-98ca-ce702a23e9be",
   "metadata": {},
   "outputs": [
    {
     "data": {
      "text/plain": [
       "array([['1', 'A', '75', '50', '70'],\n",
       "       ['2', 'B', '33', '40', '80'],\n",
       "       ['3', 'C', '90', '100', '91']], dtype='<U11')"
      ]
     },
     "execution_count": 29,
     "metadata": {},
     "output_type": "execute_result"
    }
   ],
   "source": [
    "marks"
   ]
  },
  {
   "cell_type": "raw",
   "id": "3a5555a6-44b7-42bc-9954-78dc60490d8e",
   "metadata": {},
   "source": [
    "import cv2\n",
    "img=cv2.imread(\"C:/Users/Ducat/Desktop/kate.jpg\")  # in bracket path of img\n",
    "img\n",
    "\n",
    "it will result an array of 3D which store the img"
   ]
  },
  {
   "cell_type": "raw",
   "id": "532f81df-6123-4fde-8964-a343bc1c9a5d",
   "metadata": {},
   "source": [
    "import cv2\n",
    "img=cv2.imread(\"C:/Users/Ducat/Desktop/kate.jpg\")  # in bracket path of img\n",
    "print(img)\n",
    "cv2.imshow('win',img)    # win is created to show img\n",
    "cv2.waitkey()\n",
    "cv2.destroyAllWindows()"
   ]
  },
  {
   "cell_type": "markdown",
   "id": "d2af4b06-5d0a-45da-a9df-50c674901a82",
   "metadata": {},
   "source": [
    "# Application of array:\n",
    "\n",
    "0D --> 27(age)\n",
    "\n",
    "1D --> to create list\n",
    "\n",
    "2D --> to store tabular data\n",
    "\n",
    "3D --> used to store image\n",
    "\n",
    "4D --> to store video"
   ]
  },
  {
   "cell_type": "code",
   "execution_count": 30,
   "id": "a107a0ef-9e75-4f21-a515-4d74a9328c72",
   "metadata": {},
   "outputs": [
    {
     "name": "stdout",
     "output_type": "stream",
     "text": [
      "[ 0  1  2  3  4  5  6  7  8  9 10 11 12 13 14 15 16 17 18 19 20 21 22 23\n",
      " 24 25 26 27 28 29 30 31 32 33 34 35 36 37 38 39 40 41 42 43 44 45 46 47\n",
      " 48 49 50 51 52 53 54 55 56 57 58 59 60 61 62 63 64 65 66 67 68 69 70 71\n",
      " 72 73 74 75 76 77 78 79 80 81 82 83 84 85 86 87 88 89 90 91 92 93 94 95\n",
      " 96 97 98 99]\n"
     ]
    }
   ],
   "source": [
    "demo1=np.array([i for i in range(100)])    #this is an array\n",
    "print(demo1)"
   ]
  },
  {
   "cell_type": "code",
   "execution_count": 31,
   "id": "02807544-78f0-4009-8753-3a277e790240",
   "metadata": {},
   "outputs": [
    {
     "name": "stdout",
     "output_type": "stream",
     "text": [
      "[0, 1, 2, 3, 4, 5, 6, 7, 8, 9, 10, 11, 12, 13, 14, 15, 16, 17, 18, 19, 20, 21, 22, 23, 24, 25, 26, 27, 28, 29, 30, 31, 32, 33, 34, 35, 36, 37, 38, 39, 40, 41, 42, 43, 44, 45, 46, 47, 48, 49, 50, 51, 52, 53, 54, 55, 56, 57, 58, 59, 60, 61, 62, 63, 64, 65, 66, 67, 68, 69, 70, 71, 72, 73, 74, 75, 76, 77, 78, 79, 80, 81, 82, 83, 84, 85, 86, 87, 88, 89, 90, 91, 92, 93, 94, 95, 96, 97, 98, 99]\n"
     ]
    }
   ],
   "source": [
    "demo2=[i for i in range(100)]     #this is a list\n",
    "print(demo2)"
   ]
  },
  {
   "cell_type": "markdown",
   "id": "8bc77ace-125b-4f55-8574-4dfdbb1887a3",
   "metadata": {},
   "source": [
    "# Array is faster then list"
   ]
  },
  {
   "cell_type": "code",
   "execution_count": 32,
   "id": "a9d7f669-73b1-4417-a230-8544ca43a336",
   "metadata": {},
   "outputs": [],
   "source": [
    "import sys   # sys is third party library"
   ]
  },
  {
   "cell_type": "code",
   "execution_count": 33,
   "id": "f5864ecd-5c46-400d-a63b-fdd118524230",
   "metadata": {},
   "outputs": [
    {
     "data": {
      "text/plain": [
       "512"
      ]
     },
     "execution_count": 33,
     "metadata": {},
     "output_type": "execute_result"
    }
   ],
   "source": [
    "sys.getsizeof(demo1)"
   ]
  },
  {
   "cell_type": "code",
   "execution_count": 34,
   "id": "76d8b567-23a2-444d-9f92-8cd17518bd18",
   "metadata": {},
   "outputs": [
    {
     "data": {
      "text/plain": [
       "920"
      ]
     },
     "execution_count": 34,
     "metadata": {},
     "output_type": "execute_result"
    }
   ],
   "source": [
    "sys.getsizeof(demo2)"
   ]
  },
  {
   "cell_type": "code",
   "execution_count": 35,
   "id": "450b4996-6aff-40e1-b9c4-e1f6468712c8",
   "metadata": {},
   "outputs": [],
   "source": [
    "import random"
   ]
  },
  {
   "cell_type": "code",
   "execution_count": 36,
   "id": "a3933977-0b66-470a-b391-2fb959f40c3b",
   "metadata": {},
   "outputs": [
    {
     "data": {
      "text/plain": [
       "7"
      ]
     },
     "execution_count": 36,
     "metadata": {},
     "output_type": "execute_result"
    }
   ],
   "source": [
    "random.randint(1,10)    #it take only two parameter "
   ]
  },
  {
   "cell_type": "code",
   "execution_count": 37,
   "id": "588ae7fb-6dc7-409e-a499-23f960f1fd23",
   "metadata": {},
   "outputs": [
    {
     "data": {
      "text/plain": [
       "array([5, 5, 4, 1, 2])"
      ]
     },
     "execution_count": 37,
     "metadata": {},
     "output_type": "execute_result"
    }
   ],
   "source": [
    "np.random.randint(1,10,5)       #in numpy randint take parameter,size,data type, strting nd ending values are inclusive"
   ]
  },
  {
   "cell_type": "code",
   "execution_count": 38,
   "id": "1a8b8e2a-7305-4aa3-ad46-30e762fe84a2",
   "metadata": {},
   "outputs": [
    {
     "data": {
      "text/plain": [
       "array([[6, 8],\n",
       "       [1, 9],\n",
       "       [8, 5]])"
      ]
     },
     "execution_count": 38,
     "metadata": {},
     "output_type": "execute_result"
    }
   ],
   "source": [
    "np.random.randint(1,10,(3,2))  # 2D array"
   ]
  },
  {
   "cell_type": "code",
   "execution_count": 39,
   "id": "83499211-a4ba-4e23-bfc0-cf2c5eb8eb26",
   "metadata": {},
   "outputs": [
    {
     "data": {
      "text/plain": [
       "array([[[8, 4],\n",
       "        [7, 8],\n",
       "        [6, 2]],\n",
       "\n",
       "       [[7, 3],\n",
       "        [2, 6],\n",
       "        [5, 6]],\n",
       "\n",
       "       [[9, 9],\n",
       "        [4, 9],\n",
       "        [9, 5]]])"
      ]
     },
     "execution_count": 39,
     "metadata": {},
     "output_type": "execute_result"
    }
   ],
   "source": [
    "np.random.randint(1,10,(3,3,2))   #3D array,   (start,end,size of array)"
   ]
  },
  {
   "cell_type": "code",
   "execution_count": 40,
   "id": "7bae2868-6c47-44a4-a774-1f6360778c3c",
   "metadata": {},
   "outputs": [
    {
     "data": {
      "text/plain": [
       "array([[[[3, 2],\n",
       "         [2, 4],\n",
       "         [3, 7]],\n",
       "\n",
       "        [[3, 1],\n",
       "         [7, 1],\n",
       "         [9, 6]],\n",
       "\n",
       "        [[6, 9],\n",
       "         [2, 5],\n",
       "         [4, 5]]],\n",
       "\n",
       "\n",
       "       [[[9, 9],\n",
       "         [5, 9],\n",
       "         [8, 4]],\n",
       "\n",
       "        [[3, 5],\n",
       "         [5, 5],\n",
       "         [9, 1]],\n",
       "\n",
       "        [[7, 9],\n",
       "         [4, 1],\n",
       "         [8, 1]]],\n",
       "\n",
       "\n",
       "       [[[7, 2],\n",
       "         [4, 9],\n",
       "         [2, 2]],\n",
       "\n",
       "        [[7, 8],\n",
       "         [6, 9],\n",
       "         [1, 8]],\n",
       "\n",
       "        [[9, 3],\n",
       "         [5, 4],\n",
       "         [2, 9]]],\n",
       "\n",
       "\n",
       "       [[[4, 3],\n",
       "         [9, 4],\n",
       "         [8, 2]],\n",
       "\n",
       "        [[4, 8],\n",
       "         [7, 1],\n",
       "         [2, 3]],\n",
       "\n",
       "        [[9, 2],\n",
       "         [3, 3],\n",
       "         [7, 3]]]])"
      ]
     },
     "execution_count": 40,
     "metadata": {},
     "output_type": "execute_result"
    }
   ],
   "source": [
    "np.random.randint(1,10,(4,3,3,2))   #4D array"
   ]
  },
  {
   "cell_type": "code",
   "execution_count": 41,
   "id": "b7ae08ee-6f94-455f-adf7-413dc823f8a2",
   "metadata": {},
   "outputs": [
    {
     "data": {
      "text/plain": [
       "array([[[[[4, 8],\n",
       "          [6, 4],\n",
       "          [8, 4]],\n",
       "\n",
       "         [[7, 4],\n",
       "          [7, 5],\n",
       "          [8, 5]],\n",
       "\n",
       "         [[3, 8],\n",
       "          [2, 4],\n",
       "          [3, 2]]],\n",
       "\n",
       "\n",
       "        [[[6, 1],\n",
       "          [4, 2],\n",
       "          [9, 5]],\n",
       "\n",
       "         [[4, 2],\n",
       "          [1, 7],\n",
       "          [2, 2]],\n",
       "\n",
       "         [[5, 7],\n",
       "          [4, 4],\n",
       "          [8, 6]]],\n",
       "\n",
       "\n",
       "        [[[9, 7],\n",
       "          [5, 5],\n",
       "          [4, 9]],\n",
       "\n",
       "         [[3, 6],\n",
       "          [6, 8],\n",
       "          [1, 6]],\n",
       "\n",
       "         [[1, 1],\n",
       "          [7, 2],\n",
       "          [9, 6]]],\n",
       "\n",
       "\n",
       "        [[[8, 6],\n",
       "          [1, 6],\n",
       "          [8, 4]],\n",
       "\n",
       "         [[3, 2],\n",
       "          [3, 4],\n",
       "          [7, 8]],\n",
       "\n",
       "         [[9, 5],\n",
       "          [1, 7],\n",
       "          [1, 6]]]],\n",
       "\n",
       "\n",
       "\n",
       "       [[[[2, 2],\n",
       "          [6, 1],\n",
       "          [3, 1]],\n",
       "\n",
       "         [[7, 2],\n",
       "          [5, 1],\n",
       "          [3, 5]],\n",
       "\n",
       "         [[9, 7],\n",
       "          [7, 1],\n",
       "          [8, 6]]],\n",
       "\n",
       "\n",
       "        [[[7, 8],\n",
       "          [1, 1],\n",
       "          [7, 1]],\n",
       "\n",
       "         [[1, 8],\n",
       "          [5, 5],\n",
       "          [5, 8]],\n",
       "\n",
       "         [[1, 1],\n",
       "          [1, 2],\n",
       "          [6, 7]]],\n",
       "\n",
       "\n",
       "        [[[2, 1],\n",
       "          [1, 3],\n",
       "          [7, 7]],\n",
       "\n",
       "         [[8, 3],\n",
       "          [7, 9],\n",
       "          [6, 3]],\n",
       "\n",
       "         [[4, 6],\n",
       "          [3, 4],\n",
       "          [9, 1]]],\n",
       "\n",
       "\n",
       "        [[[4, 4],\n",
       "          [6, 2],\n",
       "          [8, 9]],\n",
       "\n",
       "         [[5, 3],\n",
       "          [9, 7],\n",
       "          [6, 3]],\n",
       "\n",
       "         [[1, 3],\n",
       "          [5, 8],\n",
       "          [9, 3]]]],\n",
       "\n",
       "\n",
       "\n",
       "       [[[[1, 5],\n",
       "          [6, 7],\n",
       "          [2, 5]],\n",
       "\n",
       "         [[4, 1],\n",
       "          [4, 4],\n",
       "          [3, 4]],\n",
       "\n",
       "         [[8, 3],\n",
       "          [8, 1],\n",
       "          [3, 3]]],\n",
       "\n",
       "\n",
       "        [[[7, 5],\n",
       "          [3, 9],\n",
       "          [3, 1]],\n",
       "\n",
       "         [[7, 3],\n",
       "          [6, 8],\n",
       "          [6, 3]],\n",
       "\n",
       "         [[8, 9],\n",
       "          [7, 7],\n",
       "          [3, 5]]],\n",
       "\n",
       "\n",
       "        [[[9, 2],\n",
       "          [4, 9],\n",
       "          [9, 8]],\n",
       "\n",
       "         [[9, 2],\n",
       "          [6, 7],\n",
       "          [8, 8]],\n",
       "\n",
       "         [[3, 2],\n",
       "          [6, 8],\n",
       "          [9, 6]]],\n",
       "\n",
       "\n",
       "        [[[7, 2],\n",
       "          [9, 6],\n",
       "          [6, 5]],\n",
       "\n",
       "         [[4, 7],\n",
       "          [8, 1],\n",
       "          [7, 3]],\n",
       "\n",
       "         [[7, 9],\n",
       "          [9, 7],\n",
       "          [7, 2]]]],\n",
       "\n",
       "\n",
       "\n",
       "       [[[[5, 9],\n",
       "          [2, 1],\n",
       "          [1, 5]],\n",
       "\n",
       "         [[8, 3],\n",
       "          [9, 5],\n",
       "          [2, 7]],\n",
       "\n",
       "         [[8, 7],\n",
       "          [4, 6],\n",
       "          [9, 4]]],\n",
       "\n",
       "\n",
       "        [[[9, 3],\n",
       "          [9, 9],\n",
       "          [2, 3]],\n",
       "\n",
       "         [[5, 9],\n",
       "          [3, 5],\n",
       "          [3, 9]],\n",
       "\n",
       "         [[1, 6],\n",
       "          [1, 5],\n",
       "          [6, 1]]],\n",
       "\n",
       "\n",
       "        [[[3, 5],\n",
       "          [6, 3],\n",
       "          [8, 3]],\n",
       "\n",
       "         [[3, 5],\n",
       "          [3, 2],\n",
       "          [6, 1]],\n",
       "\n",
       "         [[3, 7],\n",
       "          [9, 7],\n",
       "          [2, 9]]],\n",
       "\n",
       "\n",
       "        [[[4, 4],\n",
       "          [5, 3],\n",
       "          [5, 5]],\n",
       "\n",
       "         [[7, 2],\n",
       "          [8, 1],\n",
       "          [4, 5]],\n",
       "\n",
       "         [[3, 5],\n",
       "          [9, 4],\n",
       "          [5, 3]]]],\n",
       "\n",
       "\n",
       "\n",
       "       [[[[5, 5],\n",
       "          [7, 3],\n",
       "          [6, 1]],\n",
       "\n",
       "         [[4, 9],\n",
       "          [8, 4],\n",
       "          [9, 4]],\n",
       "\n",
       "         [[9, 4],\n",
       "          [9, 3],\n",
       "          [5, 8]]],\n",
       "\n",
       "\n",
       "        [[[8, 6],\n",
       "          [6, 1],\n",
       "          [8, 8]],\n",
       "\n",
       "         [[6, 9],\n",
       "          [7, 5],\n",
       "          [9, 4]],\n",
       "\n",
       "         [[8, 4],\n",
       "          [1, 8],\n",
       "          [2, 2]]],\n",
       "\n",
       "\n",
       "        [[[3, 8],\n",
       "          [7, 4],\n",
       "          [5, 6]],\n",
       "\n",
       "         [[9, 6],\n",
       "          [7, 5],\n",
       "          [8, 5]],\n",
       "\n",
       "         [[5, 8],\n",
       "          [9, 5],\n",
       "          [1, 3]]],\n",
       "\n",
       "\n",
       "        [[[4, 3],\n",
       "          [8, 4],\n",
       "          [5, 6]],\n",
       "\n",
       "         [[5, 5],\n",
       "          [8, 2],\n",
       "          [3, 6]],\n",
       "\n",
       "         [[8, 5],\n",
       "          [9, 9],\n",
       "          [9, 3]]]]])"
      ]
     },
     "execution_count": 41,
     "metadata": {},
     "output_type": "execute_result"
    }
   ],
   "source": [
    "np.random.randint(1,10,(5,4,3,3,2))   #5D array"
   ]
  },
  {
   "cell_type": "code",
   "execution_count": 42,
   "id": "8a80aaa7-9704-42bf-9bcf-49fe107963c9",
   "metadata": {},
   "outputs": [
    {
     "data": {
      "text/plain": [
       "array([3.76115074, 1.78662447, 3.10880884, 5.31441773, 0.55200473,\n",
       "       7.97129434, 5.29970098, 5.11426328, 0.73782104, 5.24081466])"
      ]
     },
     "execution_count": 42,
     "metadata": {},
     "output_type": "execute_result"
    }
   ],
   "source": [
    "np.random.uniform(0,10,10)       \n",
    "#it provide randomly float values,\n",
    "#its strting value (inclusive), ending value (exclusive)"
   ]
  },
  {
   "cell_type": "code",
   "execution_count": 43,
   "id": "ea8e1bde-ff58-4fd9-a837-a83f8f27a32d",
   "metadata": {},
   "outputs": [
    {
     "data": {
      "text/plain": [
       "array([7, 4, 9, 9, 1, 8, 6, 9, 9, 1])"
      ]
     },
     "execution_count": 43,
     "metadata": {},
     "output_type": "execute_result"
    }
   ],
   "source": [
    "np.random.randint(1,10,10) \n",
    "#it provide randomly integer values\n",
    "#intial value(inclusive),end value(enclusive), size"
   ]
  },
  {
   "cell_type": "code",
   "execution_count": 44,
   "id": "f88fe472-1acb-4f30-9c73-485ff1425b8d",
   "metadata": {},
   "outputs": [
    {
     "data": {
      "text/plain": [
       "array([[2, 5],\n",
       "       [8, 8],\n",
       "       [3, 5]], dtype=int16)"
      ]
     },
     "execution_count": 44,
     "metadata": {},
     "output_type": "execute_result"
    }
   ],
   "source": [
    "np.random.randint(1,10,(3,2),dtype=np.int16) "
   ]
  },
  {
   "cell_type": "code",
   "execution_count": 45,
   "id": "35589cc8-989f-48d8-8a05-a4584c2a8a2a",
   "metadata": {},
   "outputs": [],
   "source": [
    "x=np.random.randint(1,10,(3,2))"
   ]
  },
  {
   "cell_type": "code",
   "execution_count": 46,
   "id": "a19ccb10-5c95-4ad8-a1d5-32030e638bee",
   "metadata": {},
   "outputs": [
    {
     "data": {
      "text/plain": [
       "array([[1, 5],\n",
       "       [3, 7],\n",
       "       [5, 2]])"
      ]
     },
     "execution_count": 46,
     "metadata": {},
     "output_type": "execute_result"
    }
   ],
   "source": [
    "x"
   ]
  },
  {
   "cell_type": "code",
   "execution_count": 47,
   "id": "5817fa18-6d79-4364-a1be-862813b3702f",
   "metadata": {},
   "outputs": [
    {
     "data": {
      "text/plain": [
       "array([[1., 5.],\n",
       "       [3., 7.],\n",
       "       [5., 2.]], dtype=float16)"
      ]
     },
     "execution_count": 47,
     "metadata": {},
     "output_type": "execute_result"
    }
   ],
   "source": [
    "np.array(x,dtype=np.float16)    #converting randint into float"
   ]
  },
  {
   "cell_type": "code",
   "execution_count": 48,
   "id": "c423b8dc-8554-43c3-90fb-16d3e14fdd8b",
   "metadata": {},
   "outputs": [
    {
     "data": {
      "text/plain": [
       "array([ 1.,  2.,  3.,  4.,  5.,  6.,  7.,  8.,  9., 10.])"
      ]
     },
     "execution_count": 48,
     "metadata": {},
     "output_type": "execute_result"
    }
   ],
   "source": [
    "np.linspace(1,10,10)    #function, uniformly euidistance data create using linspace b/w two points\n",
    "#strting nd ending values are inclusive\n",
    "#size can be increases"
   ]
  },
  {
   "cell_type": "code",
   "execution_count": 49,
   "id": "ff22d093-4961-4878-9eaf-499cf521d10d",
   "metadata": {},
   "outputs": [
    {
     "data": {
      "text/plain": [
       "array([ 0.5,  1. ,  1.5,  2. ,  2.5,  3. ,  3.5,  4. ,  4.5,  5. ,  5.5,\n",
       "        6. ,  6.5,  7. ,  7.5,  8. ,  8.5,  9. ,  9.5, 10. ])"
      ]
     },
     "execution_count": 49,
     "metadata": {},
     "output_type": "execute_result"
    }
   ],
   "source": [
    "np.linspace(0.5,10,20) "
   ]
  },
  {
   "cell_type": "code",
   "execution_count": 50,
   "id": "362d3c4a-9cf6-45fe-b638-a4353afaf19a",
   "metadata": {},
   "outputs": [
    {
     "data": {
      "text/plain": [
       "array([ 1,  1,  2,  2,  3,  3,  4,  4,  5,  5,  6,  6,  7,  7,  8,  8,  9,\n",
       "        9, 10, 10, 11], dtype=int16)"
      ]
     },
     "execution_count": 50,
     "metadata": {},
     "output_type": "execute_result"
    }
   ],
   "source": [
    "np.linspace(1,11,21,dtype=np.int16)   # it convert float into int"
   ]
  },
  {
   "cell_type": "code",
   "execution_count": 51,
   "id": "f17ac4a0-38b9-4ed3-a9f7-b959014ea7b2",
   "metadata": {},
   "outputs": [
    {
     "data": {
      "text/plain": [
       "range(0, 10)"
      ]
     },
     "execution_count": 51,
     "metadata": {},
     "output_type": "execute_result"
    }
   ],
   "source": [
    "range(10)"
   ]
  },
  {
   "cell_type": "code",
   "execution_count": 52,
   "id": "8b290039-b6fd-4d8c-a765-1d49edb1940d",
   "metadata": {},
   "outputs": [
    {
     "data": {
      "text/plain": [
       "array([0, 1, 2, 3, 4, 5, 6, 7, 8, 9])"
      ]
     },
     "execution_count": 52,
     "metadata": {},
     "output_type": "execute_result"
    }
   ],
   "source": [
    "np.arange(10)"
   ]
  },
  {
   "cell_type": "markdown",
   "id": "0bdc344e-6055-4059-ae56-625fea375e3c",
   "metadata": {},
   "source": [
    "# Reshape:  array_name.reshape((size of array))\n",
    "\n",
    "* it is function which on numpy\n",
    "* no need of permanent changes in array we use reshape"
   ]
  },
  {
   "cell_type": "markdown",
   "id": "6e4a1389-e558-45cf-a5e3-63de7c954bd8",
   "metadata": {},
   "source": [
    "# Resize:  array_name.resize()\n",
    "\n",
    "* when we need permanent changes in array_name "
   ]
  },
  {
   "cell_type": "code",
   "execution_count": 126,
   "id": "96e736f9-cf92-4e29-b46d-d84bfb3373d4",
   "metadata": {},
   "outputs": [
    {
     "data": {
      "text/plain": [
       "array([1, 2, 3, 4, 5, 6, 7, 8, 9, 0])"
      ]
     },
     "execution_count": 126,
     "metadata": {},
     "output_type": "execute_result"
    }
   ],
   "source": [
    "array_name=np.array([1,2,3,4,5,6,7,8,9,0])\n",
    "array_name"
   ]
  },
  {
   "cell_type": "code",
   "execution_count": 131,
   "id": "1ebce297-6562-4863-b2ea-27a88776ac5e",
   "metadata": {},
   "outputs": [
    {
     "data": {
      "text/plain": [
       "array([[1, 2, 3, 4, 5],\n",
       "       [6, 7, 8, 9, 0]])"
      ]
     },
     "execution_count": 131,
     "metadata": {},
     "output_type": "execute_result"
    }
   ],
   "source": [
    "array_name.reshape((2,5))    #order is C bydefault"
   ]
  },
  {
   "cell_type": "code",
   "execution_count": 128,
   "id": "449eee94-cde5-4516-809d-5a107acedcd5",
   "metadata": {},
   "outputs": [
    {
     "data": {
      "text/plain": [
       "array([1, 2, 3, 4, 5, 6, 7, 8, 9, 0])"
      ]
     },
     "execution_count": 128,
     "metadata": {},
     "output_type": "execute_result"
    }
   ],
   "source": [
    "array_name"
   ]
  },
  {
   "cell_type": "code",
   "execution_count": 129,
   "id": "617d0eeb-f165-478a-8964-4178b82d8a1c",
   "metadata": {},
   "outputs": [
    {
     "data": {
      "text/plain": [
       "array([[1, 2, 3, 4, 5],\n",
       "       [6, 7, 8, 9, 0]])"
      ]
     },
     "execution_count": 129,
     "metadata": {},
     "output_type": "execute_result"
    }
   ],
   "source": [
    "array_name.reshape((2,5),order='C')"
   ]
  },
  {
   "cell_type": "code",
   "execution_count": 130,
   "id": "eb401cf7-e181-4c50-9ef9-14a4c11caca6",
   "metadata": {},
   "outputs": [
    {
     "data": {
      "text/plain": [
       "array([[1, 3, 5, 7, 9],\n",
       "       [2, 4, 6, 8, 0]])"
      ]
     },
     "execution_count": 130,
     "metadata": {},
     "output_type": "execute_result"
    }
   ],
   "source": [
    "array_name.reshape((2,5),order='F')"
   ]
  },
  {
   "cell_type": "code",
   "execution_count": 138,
   "id": "a0b7c9dd-861d-459b-ab7c-a598af98dc5f",
   "metadata": {},
   "outputs": [],
   "source": [
    "array_name.resize((2,5))  # it changes our base array array_name"
   ]
  },
  {
   "cell_type": "code",
   "execution_count": 139,
   "id": "2dd02a44-3271-448d-ba52-1c6161996800",
   "metadata": {},
   "outputs": [
    {
     "data": {
      "text/plain": [
       "array([[1, 2, 3, 4, 5],\n",
       "       [6, 7, 8, 9, 0]])"
      ]
     },
     "execution_count": 139,
     "metadata": {},
     "output_type": "execute_result"
    }
   ],
   "source": [
    "array_name"
   ]
  },
  {
   "cell_type": "code",
   "execution_count": 140,
   "id": "33ba1e3f-12d7-4cfb-8605-e3fdecbbbb41",
   "metadata": {},
   "outputs": [],
   "source": [
    "array_name.resize((5,2))"
   ]
  },
  {
   "cell_type": "code",
   "execution_count": 141,
   "id": "9e50c3bd-3551-4b08-8053-9551a0fb8d3f",
   "metadata": {},
   "outputs": [
    {
     "data": {
      "text/plain": [
       "array([[1, 2],\n",
       "       [3, 4],\n",
       "       [5, 6],\n",
       "       [7, 8],\n",
       "       [9, 0]])"
      ]
     },
     "execution_count": 141,
     "metadata": {},
     "output_type": "execute_result"
    }
   ],
   "source": [
    "array_name"
   ]
  },
  {
   "cell_type": "code",
   "execution_count": 143,
   "id": "65704425-fd96-4725-aa95-396c7611676d",
   "metadata": {},
   "outputs": [],
   "source": [
    "array_name.resize((4,2),refcheck=False)"
   ]
  },
  {
   "cell_type": "code",
   "execution_count": 144,
   "id": "7e604761-2a9b-4369-8e62-147e27649c83",
   "metadata": {},
   "outputs": [
    {
     "data": {
      "text/plain": [
       "array([[1, 2],\n",
       "       [3, 4],\n",
       "       [5, 6],\n",
       "       [7, 8]])"
      ]
     },
     "execution_count": 144,
     "metadata": {},
     "output_type": "execute_result"
    }
   ],
   "source": [
    "array_name"
   ]
  },
  {
   "cell_type": "code",
   "execution_count": 146,
   "id": "6ee037ec-89f3-4ff3-b7af-eb2fd676b9ef",
   "metadata": {},
   "outputs": [
    {
     "data": {
      "text/plain": [
       "array([[1, 2],\n",
       "       [3, 4],\n",
       "       [5, 6],\n",
       "       [7, 8],\n",
       "       [0, 0],\n",
       "       [0, 0]])"
      ]
     },
     "execution_count": 146,
     "metadata": {},
     "output_type": "execute_result"
    }
   ],
   "source": [
    "array_name.resize((6,2),refcheck=False)   # when size is large then actual array it will provide zero\n",
    "array_name  "
   ]
  },
  {
   "cell_type": "code",
   "execution_count": 147,
   "id": "baaeb328-00cc-4ff1-9546-3f9512d53a55",
   "metadata": {},
   "outputs": [
    {
     "data": {
      "text/plain": [
       "array([[1, 2],\n",
       "       [3, 4],\n",
       "       [5, 6],\n",
       "       [7, 8],\n",
       "       [0, 0],\n",
       "       [0, 0]])"
      ]
     },
     "execution_count": 147,
     "metadata": {},
     "output_type": "execute_result"
    }
   ],
   "source": [
    "array_name"
   ]
  },
  {
   "cell_type": "code",
   "execution_count": 142,
   "id": "3591a983-d33d-4b39-a4f7-58d2980ef244",
   "metadata": {},
   "outputs": [],
   "source": [
    "X=np.random.randint(1,10,(3,2))"
   ]
  },
  {
   "cell_type": "code",
   "execution_count": 54,
   "id": "ec319473-c418-49b2-93b7-1c14031151f7",
   "metadata": {},
   "outputs": [
    {
     "data": {
      "text/plain": [
       "array([[7, 3],\n",
       "       [4, 7],\n",
       "       [4, 5]])"
      ]
     },
     "execution_count": 54,
     "metadata": {},
     "output_type": "execute_result"
    }
   ],
   "source": [
    "X"
   ]
  },
  {
   "cell_type": "code",
   "execution_count": 55,
   "id": "54dabf02-7f40-4992-bed1-2071801ceb0f",
   "metadata": {},
   "outputs": [
    {
     "data": {
      "text/plain": [
       "array([7, 3, 4, 7, 4, 5])"
      ]
     },
     "execution_count": 55,
     "metadata": {},
     "output_type": "execute_result"
    }
   ],
   "source": [
    "y=X.flatten()    # flatten is define as converting any dimensional array into 1D array\n",
    "y"
   ]
  },
  {
   "cell_type": "code",
   "execution_count": 66,
   "id": "edc95433-6da9-43cc-9e5f-e8b3219b7537",
   "metadata": {},
   "outputs": [],
   "source": [
    "X.resize((2,3))\n",
    "#resize do permanent changes into existing array"
   ]
  },
  {
   "cell_type": "code",
   "execution_count": 67,
   "id": "e0627b44-f807-439b-a219-a24b6176f6c1",
   "metadata": {},
   "outputs": [
    {
     "data": {
      "text/plain": [
       "array([[7, 3, 4],\n",
       "       [7, 4, 5]])"
      ]
     },
     "execution_count": 67,
     "metadata": {},
     "output_type": "execute_result"
    }
   ],
   "source": [
    "X"
   ]
  },
  {
   "cell_type": "code",
   "execution_count": 68,
   "id": "5e0cedc7-f905-4bbf-843c-6f2aae62fa92",
   "metadata": {},
   "outputs": [],
   "source": [
    "z=np.random.randint(1,10,(3,2))"
   ]
  },
  {
   "cell_type": "code",
   "execution_count": 69,
   "id": "f408a655-8f7d-4df0-a680-130a457fc78d",
   "metadata": {},
   "outputs": [
    {
     "data": {
      "text/plain": [
       "array([[4, 3],\n",
       "       [4, 2],\n",
       "       [7, 3]])"
      ]
     },
     "execution_count": 69,
     "metadata": {},
     "output_type": "execute_result"
    }
   ],
   "source": [
    "z"
   ]
  },
  {
   "cell_type": "code",
   "execution_count": 70,
   "id": "98402ddd-dc68-453d-9cc6-84e431e7657c",
   "metadata": {},
   "outputs": [
    {
     "data": {
      "text/plain": [
       "array([4, 3, 4, 2, 7, 3])"
      ]
     },
     "execution_count": 70,
     "metadata": {},
     "output_type": "execute_result"
    }
   ],
   "source": [
    "z.flatten()"
   ]
  },
  {
   "cell_type": "code",
   "execution_count": 71,
   "id": "1fb64530-f75e-4b0a-8d0f-0112b7ee957a",
   "metadata": {},
   "outputs": [
    {
     "data": {
      "text/plain": [
       "array([[4, 3, 4],\n",
       "       [2, 7, 3]])"
      ]
     },
     "execution_count": 71,
     "metadata": {},
     "output_type": "execute_result"
    }
   ],
   "source": [
    "z.reshape((2,3))"
   ]
  },
  {
   "cell_type": "code",
   "execution_count": 72,
   "id": "a7d25a36-e233-4bf0-ad41-d5d058f48703",
   "metadata": {},
   "outputs": [
    {
     "data": {
      "text/plain": [
       "array([[4, 3],\n",
       "       [4, 2],\n",
       "       [7, 3]])"
      ]
     },
     "execution_count": 72,
     "metadata": {},
     "output_type": "execute_result"
    }
   ],
   "source": [
    "z"
   ]
  },
  {
   "cell_type": "code",
   "execution_count": 73,
   "id": "e5f579fa-cb5f-4387-94b2-ab2ae4c4aeec",
   "metadata": {},
   "outputs": [
    {
     "data": {
      "text/plain": [
       "array([[4, 7, 2],\n",
       "       [4, 3, 3]])"
      ]
     },
     "execution_count": 73,
     "metadata": {},
     "output_type": "execute_result"
    }
   ],
   "source": [
    "z.reshape((2,3),order='F')\n",
    "#reshape not do permanent changes into array\n",
    "#F is a language called fortran it is use to flatten"
   ]
  },
  {
   "cell_type": "code",
   "execution_count": 74,
   "id": "5ea113c1-0cba-4b3e-8af5-366db327d90c",
   "metadata": {},
   "outputs": [
    {
     "data": {
      "text/plain": [
       "array([[4, 3, 4],\n",
       "       [2, 7, 3]])"
      ]
     },
     "execution_count": 74,
     "metadata": {},
     "output_type": "execute_result"
    }
   ],
   "source": [
    "z.reshape((2,3),order='C')"
   ]
  },
  {
   "cell_type": "code",
   "execution_count": 75,
   "id": "0eb88593-e4ab-4b57-b2c9-4402bd223979",
   "metadata": {},
   "outputs": [],
   "source": [
    "array1=np.arange(16)"
   ]
  },
  {
   "cell_type": "code",
   "execution_count": 76,
   "id": "014953ea-51b9-4de0-ab36-2470242b226f",
   "metadata": {},
   "outputs": [
    {
     "data": {
      "text/plain": [
       "array([ 0,  1,  2,  3,  4,  5,  6,  7,  8,  9, 10, 11, 12, 13, 14, 15])"
      ]
     },
     "execution_count": 76,
     "metadata": {},
     "output_type": "execute_result"
    }
   ],
   "source": [
    "array1"
   ]
  },
  {
   "cell_type": "code",
   "execution_count": 77,
   "id": "342d1df9-5a57-4777-9299-1ced26b6a93f",
   "metadata": {},
   "outputs": [
    {
     "data": {
      "text/plain": [
       "array([[ 0,  1,  2,  3],\n",
       "       [ 4,  5,  6,  7],\n",
       "       [ 8,  9, 10, 11],\n",
       "       [12, 13, 14, 15]])"
      ]
     },
     "execution_count": 77,
     "metadata": {},
     "output_type": "execute_result"
    }
   ],
   "source": [
    "array1.reshape((4,4))"
   ]
  },
  {
   "cell_type": "code",
   "execution_count": 78,
   "id": "78dbffcc-489c-48d1-bf39-c7dbb5e87d5d",
   "metadata": {},
   "outputs": [
    {
     "ename": "ValueError",
     "evalue": "cannot reshape array of size 16 into shape (3,2)",
     "output_type": "error",
     "traceback": [
      "\u001b[1;31m---------------------------------------------------------------------------\u001b[0m",
      "\u001b[1;31mValueError\u001b[0m                                Traceback (most recent call last)",
      "Cell \u001b[1;32mIn[78], line 1\u001b[0m\n\u001b[1;32m----> 1\u001b[0m \u001b[43marray1\u001b[49m\u001b[38;5;241;43m.\u001b[39;49m\u001b[43mreshape\u001b[49m\u001b[43m(\u001b[49m\u001b[43m(\u001b[49m\u001b[38;5;241;43m3\u001b[39;49m\u001b[43m,\u001b[49m\u001b[38;5;241;43m2\u001b[39;49m\u001b[43m)\u001b[49m\u001b[43m)\u001b[49m\n",
      "\u001b[1;31mValueError\u001b[0m: cannot reshape array of size 16 into shape (3,2)"
     ]
    }
   ],
   "source": [
    "array1.reshape((3,2))"
   ]
  },
  {
   "cell_type": "code",
   "execution_count": 81,
   "id": "541777ca-72a9-4751-a7fd-1252efed85f0",
   "metadata": {},
   "outputs": [
    {
     "data": {
      "text/plain": [
       "array([[ 0,  1,  2,  3,  4,  5,  6,  7],\n",
       "       [ 8,  9, 10, 11, 12, 13, 14, 15]])"
      ]
     },
     "execution_count": 81,
     "metadata": {},
     "output_type": "execute_result"
    }
   ],
   "source": [
    "array1.reshape((2,-1))\n",
    "#when we don't know the columns put it -1\n",
    "#it also allow in single bracket"
   ]
  },
  {
   "cell_type": "code",
   "execution_count": 84,
   "id": "2a990461-e829-4451-970d-512699585702",
   "metadata": {},
   "outputs": [
    {
     "data": {
      "text/plain": [
       "array([[ 0,  1],\n",
       "       [ 2,  3],\n",
       "       [ 4,  5],\n",
       "       [ 6,  7],\n",
       "       [ 8,  9],\n",
       "       [10, 11],\n",
       "       [12, 13],\n",
       "       [14, 15]])"
      ]
     },
     "execution_count": 84,
     "metadata": {},
     "output_type": "execute_result"
    }
   ],
   "source": [
    "array1.reshape(-1,2)\n",
    "#when we don't know the rows put it -1\n",
    "#it also allow in single bracket"
   ]
  },
  {
   "cell_type": "code",
   "execution_count": 83,
   "id": "e0228dac-ef74-4363-b19d-6e44978dfe37",
   "metadata": {},
   "outputs": [
    {
     "data": {
      "text/plain": [
       "array([[ 0,  8],\n",
       "       [ 1,  9],\n",
       "       [ 2, 10],\n",
       "       [ 3, 11],\n",
       "       [ 4, 12],\n",
       "       [ 5, 13],\n",
       "       [ 6, 14],\n",
       "       [ 7, 15]])"
      ]
     },
     "execution_count": 83,
     "metadata": {},
     "output_type": "execute_result"
    }
   ],
   "source": [
    "array1.reshape((-1,2),order='F')"
   ]
  },
  {
   "cell_type": "code",
   "execution_count": 85,
   "id": "e5ec7c6e-ad52-4a8f-9014-d838f2f2d9eb",
   "metadata": {},
   "outputs": [
    {
     "ename": "ValueError",
     "evalue": "can only specify one unknown dimension",
     "output_type": "error",
     "traceback": [
      "\u001b[1;31m---------------------------------------------------------------------------\u001b[0m",
      "\u001b[1;31mValueError\u001b[0m                                Traceback (most recent call last)",
      "Cell \u001b[1;32mIn[85], line 1\u001b[0m\n\u001b[1;32m----> 1\u001b[0m \u001b[43marray1\u001b[49m\u001b[38;5;241;43m.\u001b[39;49m\u001b[43mreshape\u001b[49m\u001b[43m(\u001b[49m\u001b[43m(\u001b[49m\u001b[38;5;241;43m-\u001b[39;49m\u001b[38;5;241;43m1\u001b[39;49m\u001b[43m,\u001b[49m\u001b[38;5;241;43m-\u001b[39;49m\u001b[38;5;241;43m1\u001b[39;49m\u001b[43m)\u001b[49m\u001b[43m)\u001b[49m\n",
      "\u001b[1;31mValueError\u001b[0m: can only specify one unknown dimension"
     ]
    }
   ],
   "source": [
    "array1.reshape((-1,-1))"
   ]
  },
  {
   "cell_type": "code",
   "execution_count": 87,
   "id": "23a8a9b8-311f-4435-a5eb-929848a9aa58",
   "metadata": {},
   "outputs": [
    {
     "data": {
      "text/plain": [
       "16"
      ]
     },
     "execution_count": 87,
     "metadata": {},
     "output_type": "execute_result"
    }
   ],
   "source": [
    "len(array1)"
   ]
  },
  {
   "cell_type": "code",
   "execution_count": 89,
   "id": "8ce6ec30-ec06-42d2-9325-d5f7504d9f04",
   "metadata": {},
   "outputs": [
    {
     "data": {
      "text/plain": [
       "16"
      ]
     },
     "execution_count": 89,
     "metadata": {},
     "output_type": "execute_result"
    }
   ],
   "source": [
    "len((array1.reshape(2,8)).flatten())"
   ]
  },
  {
   "cell_type": "code",
   "execution_count": 90,
   "id": "ebd64ccd-08c4-4f5c-abf8-dcde15fa3a90",
   "metadata": {},
   "outputs": [
    {
     "data": {
      "text/plain": [
       "16"
      ]
     },
     "execution_count": 90,
     "metadata": {},
     "output_type": "execute_result"
    }
   ],
   "source": [
    "a=array1.reshape(2,8)\n",
    "b=a.flatten()\n",
    "len(b)"
   ]
  },
  {
   "cell_type": "code",
   "execution_count": 99,
   "id": "0d43c587-979a-4e7f-8036-57eb243f756e",
   "metadata": {},
   "outputs": [],
   "source": [
    "a=np.arange(16)"
   ]
  },
  {
   "cell_type": "code",
   "execution_count": 100,
   "id": "03020bc8-3361-4e7e-aa23-9693e1291c55",
   "metadata": {},
   "outputs": [
    {
     "data": {
      "text/plain": [
       "array([ 0,  1,  2,  3,  4,  5,  6,  7,  8,  9, 10, 11, 12, 13, 14, 15])"
      ]
     },
     "execution_count": 100,
     "metadata": {},
     "output_type": "execute_result"
    }
   ],
   "source": [
    "a=a.flatten()\n",
    "a"
   ]
  },
  {
   "cell_type": "code",
   "execution_count": 103,
   "id": "058363f6-7e00-4d55-ac9b-c2292db4c4aa",
   "metadata": {},
   "outputs": [],
   "source": [
    "a.resize((3,4),refcheck=False)   #refcheck use to resize array on the size given and remaining values left "
   ]
  },
  {
   "cell_type": "code",
   "execution_count": 104,
   "id": "fef4954d-e942-40f3-98fb-86a11048c67b",
   "metadata": {},
   "outputs": [
    {
     "data": {
      "text/plain": [
       "array([[ 0,  1,  2,  3],\n",
       "       [ 4,  5,  6,  7],\n",
       "       [ 8,  9, 10, 11]])"
      ]
     },
     "execution_count": 104,
     "metadata": {},
     "output_type": "execute_result"
    }
   ],
   "source": [
    "a"
   ]
  },
  {
   "cell_type": "markdown",
   "id": "e58c9933-74bb-4fbd-b250-571946656127",
   "metadata": {},
   "source": [
    "# Broadcasting"
   ]
  },
  {
   "cell_type": "code",
   "execution_count": 105,
   "id": "7ba3b91c-54fc-4fbd-8e57-bce43fa3730b",
   "metadata": {},
   "outputs": [],
   "source": [
    "list1=[1,2,3,4,5]\n",
    "list2=[3,4,5,6,7]"
   ]
  },
  {
   "cell_type": "code",
   "execution_count": 110,
   "id": "845994f6-5705-4cf3-87db-672e6d341f7d",
   "metadata": {},
   "outputs": [
    {
     "name": "stdout",
     "output_type": "stream",
     "text": [
      "1 3\n",
      "2 4\n",
      "3 5\n",
      "4 6\n",
      "5 7\n"
     ]
    }
   ],
   "source": [
    "for i,j in zip(list1,list2):\n",
    "    print(i,j)"
   ]
  },
  {
   "cell_type": "code",
   "execution_count": 111,
   "id": "c5496546-bc6d-4d6f-bf4f-5e7babd27c5d",
   "metadata": {},
   "outputs": [
    {
     "name": "stdout",
     "output_type": "stream",
     "text": [
      "4\n",
      "6\n",
      "8\n",
      "10\n",
      "12\n"
     ]
    }
   ],
   "source": [
    "for i,j in zip(list1,list2):\n",
    "    print(i+j)"
   ]
  },
  {
   "cell_type": "code",
   "execution_count": 114,
   "id": "0129bde9-cf87-47a8-835b-52245199dec5",
   "metadata": {},
   "outputs": [],
   "source": [
    "#list broadcasting using for loop rule1:\n",
    "empty=[]\n",
    "for i,j in zip(list1,list2):\n",
    "    empty.append(i+j)"
   ]
  },
  {
   "cell_type": "code",
   "execution_count": 113,
   "id": "a2a1464a-5f01-4225-9c0d-924f9a59b5d4",
   "metadata": {},
   "outputs": [
    {
     "data": {
      "text/plain": [
       "[4, 6, 8, 10, 12]"
      ]
     },
     "execution_count": 113,
     "metadata": {},
     "output_type": "execute_result"
    }
   ],
   "source": [
    "empty"
   ]
  },
  {
   "cell_type": "code",
   "execution_count": 116,
   "id": "0b9dcee4-df0c-40ca-9819-723852583e8f",
   "metadata": {},
   "outputs": [
    {
     "data": {
      "text/plain": [
       "[4, 6, 8, 10, 12]"
      ]
     },
     "execution_count": 116,
     "metadata": {},
     "output_type": "execute_result"
    }
   ],
   "source": [
    "#list broadcasting using for loop rule2:\n",
    "empty2=[i+j for i,j in zip(list1,list2)]\n",
    "empty2"
   ]
  },
  {
   "cell_type": "code",
   "execution_count": 106,
   "id": "2f824c6a-6ffe-4ba7-843e-0c55d00d9533",
   "metadata": {},
   "outputs": [
    {
     "data": {
      "text/plain": [
       "[1, 2, 3, 4, 5, 3, 4, 5, 6, 7]"
      ]
     },
     "execution_count": 106,
     "metadata": {},
     "output_type": "execute_result"
    }
   ],
   "source": [
    "list1+list2"
   ]
  },
  {
   "cell_type": "code",
   "execution_count": 107,
   "id": "7b5a0b07-d0a4-40e0-bdbe-efe274d910b0",
   "metadata": {},
   "outputs": [],
   "source": [
    "array1=np.array([1,2,3,4,5])\n",
    "array2=np.array([2,3,4,5,6])"
   ]
  },
  {
   "cell_type": "code",
   "execution_count": 108,
   "id": "443a6fe0-354f-400e-9e40-5a475aea7f8e",
   "metadata": {},
   "outputs": [
    {
     "data": {
      "text/plain": [
       "array([ 3,  5,  7,  9, 11])"
      ]
     },
     "execution_count": 108,
     "metadata": {},
     "output_type": "execute_result"
    }
   ],
   "source": [
    "array1+array2"
   ]
  },
  {
   "cell_type": "code",
   "execution_count": 117,
   "id": "e55a5199-9483-4aae-805e-c5e0979410e1",
   "metadata": {},
   "outputs": [
    {
     "data": {
      "text/plain": [
       "array([1, 2, 3, 4, 5, 2, 3, 4, 5, 6])"
      ]
     },
     "execution_count": 117,
     "metadata": {},
     "output_type": "execute_result"
    }
   ],
   "source": [
    "np.concatenate((array1,array2))"
   ]
  },
  {
   "cell_type": "code",
   "execution_count": 118,
   "id": "2321d53e-7aa6-498c-82ba-32141dd1fc9e",
   "metadata": {},
   "outputs": [
    {
     "data": {
      "text/plain": [
       "array([ 2,  6, 12, 20, 30])"
      ]
     },
     "execution_count": 118,
     "metadata": {},
     "output_type": "execute_result"
    }
   ],
   "source": [
    "array1*array2"
   ]
  },
  {
   "cell_type": "code",
   "execution_count": 119,
   "id": "e005cc49-3067-4967-a37d-8cd9530860ed",
   "metadata": {},
   "outputs": [
    {
     "data": {
      "text/plain": [
       "array([0.5       , 0.66666667, 0.75      , 0.8       , 0.83333333])"
      ]
     },
     "execution_count": 119,
     "metadata": {},
     "output_type": "execute_result"
    }
   ],
   "source": [
    "array1/array2"
   ]
  },
  {
   "cell_type": "code",
   "execution_count": 122,
   "id": "5adea1dd-2661-46d8-a06a-92b4cbc7b4e2",
   "metadata": {},
   "outputs": [
    {
     "data": {
      "text/plain": [
       "array([0, 0, 0, 0, 0])"
      ]
     },
     "execution_count": 122,
     "metadata": {},
     "output_type": "execute_result"
    }
   ],
   "source": [
    "array1//array2   #floor division"
   ]
  },
  {
   "cell_type": "code",
   "execution_count": 123,
   "id": "1b69c49d-7cb1-4af3-9367-9d04e84c1dd5",
   "metadata": {},
   "outputs": [
    {
     "data": {
      "text/plain": [
       "array([0.5 , 0.67, 0.75, 0.8 , 0.83])"
      ]
     },
     "execution_count": 123,
     "metadata": {},
     "output_type": "execute_result"
    }
   ],
   "source": [
    "np.round(array1/array2,decimals=2)"
   ]
  },
  {
   "cell_type": "code",
   "execution_count": 124,
   "id": "4906da8d-96ef-4a6f-a885-c26e97b058c4",
   "metadata": {},
   "outputs": [],
   "source": [
    "a=np.random.uniform(1,10,10)"
   ]
  },
  {
   "cell_type": "code",
   "execution_count": 125,
   "id": "835b3351-ccc9-4376-95e3-0d9e44daeef6",
   "metadata": {},
   "outputs": [
    {
     "data": {
      "text/plain": [
       "array([7.29, 2.68, 4.51, 3.59, 7.13, 1.31, 1.63, 7.72, 7.28, 5.77])"
      ]
     },
     "execution_count": 125,
     "metadata": {},
     "output_type": "execute_result"
    }
   ],
   "source": [
    "np.round(a,2)"
   ]
  },
  {
   "cell_type": "markdown",
   "id": "c6b4e8ef-aaa2-4248-b347-bc7918bb8736",
   "metadata": {},
   "source": [
    "# vstack and hstack\n",
    "\n",
    "vertical stack {vstack}   and   horizontal stack {hstack}\n",
    "\n",
    "* vstack --> is function jiske andar array pass krte h tuple ki form me\n",
    "\n",
    "in 2D vstack columns values must be same and have same dimensions"
   ]
  },
  {
   "cell_type": "code",
   "execution_count": 148,
   "id": "8d5a9833-bd63-44d4-88be-d45e9503ab77",
   "metadata": {},
   "outputs": [
    {
     "data": {
      "text/plain": [
       "array([[9, 9],\n",
       "       [4, 4],\n",
       "       [9, 6]])"
      ]
     },
     "execution_count": 148,
     "metadata": {},
     "output_type": "execute_result"
    }
   ],
   "source": [
    "a=np.random.randint(1,10,(3,2))    # 2D array\n",
    "a"
   ]
  },
  {
   "cell_type": "code",
   "execution_count": 149,
   "id": "6925e61a-ed2e-4ef5-9bce-fbed2b15bf0a",
   "metadata": {},
   "outputs": [
    {
     "data": {
      "text/plain": [
       "array([[1, 9],\n",
       "       [6, 6]])"
      ]
     },
     "execution_count": 149,
     "metadata": {},
     "output_type": "execute_result"
    }
   ],
   "source": [
    "b=np.random.randint(1,10,(2,2))   # 2D array\n",
    "b"
   ]
  },
  {
   "cell_type": "code",
   "execution_count": 155,
   "id": "a10616ea-9120-4d85-91a1-8b6fa2b724e1",
   "metadata": {},
   "outputs": [
    {
     "data": {
      "text/plain": [
       "array([[9, 9],\n",
       "       [4, 4],\n",
       "       [9, 6],\n",
       "       [1, 9],\n",
       "       [6, 6]])"
      ]
     },
     "execution_count": 155,
     "metadata": {},
     "output_type": "execute_result"
    }
   ],
   "source": [
    "np.vstack((a,b))     # 2D array"
   ]
  },
  {
   "cell_type": "markdown",
   "id": "1c78a288-32bd-43cc-8241-9de955ad042e",
   "metadata": {},
   "source": [
    "# 3D array vstacking\n",
    "\n",
    "in 3D array vstacking we must remember the row,column\n",
    "\n",
    "in 4D array vstack we must remember the dimension,row,column"
   ]
  },
  {
   "cell_type": "code",
   "execution_count": 151,
   "id": "56b28783-b22e-4576-81df-6d40b871159a",
   "metadata": {},
   "outputs": [
    {
     "data": {
      "text/plain": [
       "array([[[8, 5],\n",
       "        [1, 1]],\n",
       "\n",
       "       [[6, 5],\n",
       "        [6, 8]],\n",
       "\n",
       "       [[4, 5],\n",
       "        [1, 6]]])"
      ]
     },
     "execution_count": 151,
     "metadata": {},
     "output_type": "execute_result"
    }
   ],
   "source": [
    "c=np.random.randint(1,10,(3,2,2))   #(3,2,2) defines the dimension{3}, row{2}, column{2}\n",
    "c"
   ]
  },
  {
   "cell_type": "code",
   "execution_count": 152,
   "id": "e54d978b-646f-4386-8dfa-faba53163722",
   "metadata": {},
   "outputs": [
    {
     "data": {
      "text/plain": [
       "array([[[6, 7],\n",
       "        [6, 9]],\n",
       "\n",
       "       [[9, 1],\n",
       "        [2, 6]],\n",
       "\n",
       "       [[3, 5],\n",
       "        [7, 7]],\n",
       "\n",
       "       [[3, 5],\n",
       "        [5, 4]]])"
      ]
     },
     "execution_count": 152,
     "metadata": {},
     "output_type": "execute_result"
    }
   ],
   "source": [
    "d=np.random.randint(1,10,(4,2,2))\n",
    "d"
   ]
  },
  {
   "cell_type": "code",
   "execution_count": 153,
   "id": "4a3d2fb8-418e-46ba-829d-94af49e1ff1b",
   "metadata": {},
   "outputs": [
    {
     "data": {
      "text/plain": [
       "array([[[8, 5],\n",
       "        [1, 1]],\n",
       "\n",
       "       [[6, 5],\n",
       "        [6, 8]],\n",
       "\n",
       "       [[4, 5],\n",
       "        [1, 6]],\n",
       "\n",
       "       [[6, 7],\n",
       "        [6, 9]],\n",
       "\n",
       "       [[9, 1],\n",
       "        [2, 6]],\n",
       "\n",
       "       [[3, 5],\n",
       "        [7, 7]],\n",
       "\n",
       "       [[3, 5],\n",
       "        [5, 4]]])"
      ]
     },
     "execution_count": 153,
     "metadata": {},
     "output_type": "execute_result"
    }
   ],
   "source": [
    "np.vstack((c,d))"
   ]
  },
  {
   "cell_type": "markdown",
   "id": "b5b775c8-425f-41d1-8621-1d46412bc401",
   "metadata": {},
   "source": [
    "# hstack \n",
    "\n",
    "horizontal stacking\n",
    "\n",
    "\n",
    "in 2D hstack we must remember the row  and have same dimensions"
   ]
  },
  {
   "cell_type": "code",
   "execution_count": 156,
   "id": "fe2bdabf-0d7f-4103-9d0c-b4ead3712d02",
   "metadata": {},
   "outputs": [
    {
     "data": {
      "text/plain": [
       "array([[8, 3, 3],\n",
       "       [8, 3, 3]])"
      ]
     },
     "execution_count": 156,
     "metadata": {},
     "output_type": "execute_result"
    }
   ],
   "source": [
    "e=np.random.randint(1,10,(2,3))   # 2D \n",
    "e"
   ]
  },
  {
   "cell_type": "code",
   "execution_count": 157,
   "id": "898eb90f-63a2-4d0c-9772-380fd6c64b8f",
   "metadata": {},
   "outputs": [
    {
     "data": {
      "text/plain": [
       "array([[9, 4, 2, 4, 3, 7, 7, 2, 9, 9],\n",
       "       [7, 1, 1, 7, 5, 1, 1, 4, 1, 5]])"
      ]
     },
     "execution_count": 157,
     "metadata": {},
     "output_type": "execute_result"
    }
   ],
   "source": [
    "f=np.random.randint(1,10,(2,10))   # 2D \n",
    "f"
   ]
  },
  {
   "cell_type": "code",
   "execution_count": 158,
   "id": "3ca05a5d-c865-4ec3-a441-c2edb861dcc0",
   "metadata": {},
   "outputs": [
    {
     "data": {
      "text/plain": [
       "array([[8, 3, 3, 9, 4, 2, 4, 3, 7, 7, 2, 9, 9],\n",
       "       [8, 3, 3, 7, 1, 1, 7, 5, 1, 1, 4, 1, 5]])"
      ]
     },
     "execution_count": 158,
     "metadata": {},
     "output_type": "execute_result"
    }
   ],
   "source": [
    "np.hstack((e,f))"
   ]
  },
  {
   "cell_type": "markdown",
   "id": "2349dd28-87ba-434b-b79e-65078954ae84",
   "metadata": {},
   "source": [
    "# 3D array hstacking\n",
    "\n",
    "in 3D array vstacking we must remember the row,column"
   ]
  },
  {
   "cell_type": "code",
   "execution_count": 159,
   "id": "d0061395-89fc-4b69-8c77-462806f492db",
   "metadata": {},
   "outputs": [
    {
     "data": {
      "text/plain": [
       "array([[[3, 8],\n",
       "        [2, 6]],\n",
       "\n",
       "       [[1, 3],\n",
       "        [3, 9]],\n",
       "\n",
       "       [[1, 7],\n",
       "        [8, 3]]])"
      ]
     },
     "execution_count": 159,
     "metadata": {},
     "output_type": "execute_result"
    }
   ],
   "source": [
    "g=np.random.randint(1,10,(3,2,2))   \n",
    "g"
   ]
  },
  {
   "cell_type": "code",
   "execution_count": 161,
   "id": "dfc33d2f-a848-494f-ac53-f3f62d39df0d",
   "metadata": {},
   "outputs": [
    {
     "data": {
      "text/plain": [
       "array([[[5, 2],\n",
       "        [3, 3]],\n",
       "\n",
       "       [[3, 3],\n",
       "        [1, 7]],\n",
       "\n",
       "       [[8, 5],\n",
       "        [5, 7]]])"
      ]
     },
     "execution_count": 161,
     "metadata": {},
     "output_type": "execute_result"
    }
   ],
   "source": [
    "h=np.random.randint(1,10,(3,2,2))   \n",
    "h"
   ]
  },
  {
   "cell_type": "code",
   "execution_count": 162,
   "id": "18902024-9209-4198-86d8-73b769d1c5e2",
   "metadata": {},
   "outputs": [
    {
     "data": {
      "text/plain": [
       "array([[[3, 8],\n",
       "        [2, 6],\n",
       "        [5, 2],\n",
       "        [3, 3]],\n",
       "\n",
       "       [[1, 3],\n",
       "        [3, 9],\n",
       "        [3, 3],\n",
       "        [1, 7]],\n",
       "\n",
       "       [[1, 7],\n",
       "        [8, 3],\n",
       "        [8, 5],\n",
       "        [5, 7]]])"
      ]
     },
     "execution_count": 162,
     "metadata": {},
     "output_type": "execute_result"
    }
   ],
   "source": [
    "np.hstack((g,h))"
   ]
  },
  {
   "cell_type": "code",
   "execution_count": 163,
   "id": "71833830-b5ca-43e7-8673-6bf5c960dcf1",
   "metadata": {},
   "outputs": [
    {
     "data": {
      "text/plain": [
       "array([3, 2, 1, 9, 2, 7, 7, 6, 4, 2])"
      ]
     },
     "execution_count": 163,
     "metadata": {},
     "output_type": "execute_result"
    }
   ],
   "source": [
    "i=np.random.randint(1,10,10)\n",
    "i"
   ]
  },
  {
   "cell_type": "code",
   "execution_count": 164,
   "id": "07699086-9fb9-496b-a7c4-29e07e9839b7",
   "metadata": {},
   "outputs": [
    {
     "data": {
      "text/plain": [
       "1"
      ]
     },
     "execution_count": 164,
     "metadata": {},
     "output_type": "execute_result"
    }
   ],
   "source": [
    "np.min(i)"
   ]
  },
  {
   "cell_type": "code",
   "execution_count": 165,
   "id": "22c7b9c1-8961-4298-a606-93e8a3b39e8e",
   "metadata": {},
   "outputs": [
    {
     "data": {
      "text/plain": [
       "9"
      ]
     },
     "execution_count": 165,
     "metadata": {},
     "output_type": "execute_result"
    }
   ],
   "source": [
    "np.max(i)"
   ]
  },
  {
   "cell_type": "code",
   "execution_count": 166,
   "id": "f49fca14-e639-4236-b3fe-fc142d993953",
   "metadata": {},
   "outputs": [
    {
     "data": {
      "text/plain": [
       "43"
      ]
     },
     "execution_count": 166,
     "metadata": {},
     "output_type": "execute_result"
    }
   ],
   "source": [
    "np.sum(i)"
   ]
  },
  {
   "cell_type": "code",
   "execution_count": 167,
   "id": "ac3d9af3-7fcb-4ad0-a2f7-1b45fc417247",
   "metadata": {},
   "outputs": [
    {
     "data": {
      "text/plain": [
       "4.3"
      ]
     },
     "execution_count": 167,
     "metadata": {},
     "output_type": "execute_result"
    }
   ],
   "source": [
    "np.mean(i)"
   ]
  },
  {
   "cell_type": "code",
   "execution_count": 169,
   "id": "bffef407-36b4-4375-a757-9be21c521173",
   "metadata": {},
   "outputs": [
    {
     "data": {
      "text/plain": [
       "2.6095976701399777"
      ]
     },
     "execution_count": 169,
     "metadata": {},
     "output_type": "execute_result"
    }
   ],
   "source": [
    "np.std(i)   #std is standard deviation"
   ]
  },
  {
   "cell_type": "code",
   "execution_count": 170,
   "id": "843ca248-ae44-4b83-968d-b4d564ec4b9d",
   "metadata": {},
   "outputs": [
    {
     "data": {
      "text/plain": [
       "array([3, 2, 1, 9, 2, 7, 7, 6, 4, 2])"
      ]
     },
     "execution_count": 170,
     "metadata": {},
     "output_type": "execute_result"
    }
   ],
   "source": [
    "i"
   ]
  },
  {
   "cell_type": "code",
   "execution_count": 174,
   "id": "0c14a6a8-8f23-4379-b7f9-55817592717a",
   "metadata": {},
   "outputs": [
    {
     "data": {
      "text/plain": [
       "array([[1, 2, 6, 7, 2, 4, 6, 8, 5, 6],\n",
       "       [5, 2, 1, 8, 1, 5, 3, 6, 6, 4]])"
      ]
     },
     "execution_count": 174,
     "metadata": {},
     "output_type": "execute_result"
    }
   ],
   "source": [
    "j=np.random.randint(1,10,(2,10))\n",
    "j"
   ]
  },
  {
   "cell_type": "code",
   "execution_count": 176,
   "id": "1dba3c0a-c01a-41e9-a0d8-cccfb8308677",
   "metadata": {},
   "outputs": [
    {
     "data": {
      "text/plain": [
       "array([[1, 2, 3, 4, 5],\n",
       "       [6, 7, 8, 9, 0]])"
      ]
     },
     "execution_count": 176,
     "metadata": {},
     "output_type": "execute_result"
    }
   ],
   "source": [
    "k=np.array([[1,2,3,4,5],[6,7,8,9,0]])\n",
    "k"
   ]
  },
  {
   "cell_type": "code",
   "execution_count": 172,
   "id": "d9b7153f-2104-4989-b53d-c94a110b3662",
   "metadata": {},
   "outputs": [
    {
     "data": {
      "text/plain": [
       "2"
      ]
     },
     "execution_count": 172,
     "metadata": {},
     "output_type": "execute_result"
    }
   ],
   "source": [
    "np.min(j)"
   ]
  },
  {
   "cell_type": "code",
   "execution_count": 177,
   "id": "73405e89-02e3-4c25-bf6b-7915d4dedf3b",
   "metadata": {},
   "outputs": [
    {
     "data": {
      "text/plain": [
       "0"
      ]
     },
     "execution_count": 177,
     "metadata": {},
     "output_type": "execute_result"
    }
   ],
   "source": [
    "np.min(k)"
   ]
  },
  {
   "cell_type": "code",
   "execution_count": 178,
   "id": "961db4fc-c58f-4ff0-b8ac-134628bd8f87",
   "metadata": {},
   "outputs": [
    {
     "data": {
      "text/plain": [
       "9"
      ]
     },
     "execution_count": 178,
     "metadata": {},
     "output_type": "execute_result"
    }
   ],
   "source": [
    "np.max(k)"
   ]
  },
  {
   "cell_type": "code",
   "execution_count": 179,
   "id": "f656dcc6-477f-4ebe-b6b9-b4b3df50e126",
   "metadata": {},
   "outputs": [
    {
     "data": {
      "text/plain": [
       "4.5"
      ]
     },
     "execution_count": 179,
     "metadata": {},
     "output_type": "execute_result"
    }
   ],
   "source": [
    "np.mean(k)"
   ]
  },
  {
   "cell_type": "code",
   "execution_count": 180,
   "id": "ed016fc2-68ba-48bd-9ddd-e95f6f3d8163",
   "metadata": {},
   "outputs": [
    {
     "data": {
      "text/plain": [
       "2.8722813232690143"
      ]
     },
     "execution_count": 180,
     "metadata": {},
     "output_type": "execute_result"
    }
   ],
   "source": [
    "np.std(k)"
   ]
  },
  {
   "cell_type": "code",
   "execution_count": 183,
   "id": "90a5e60a-e81a-4e1d-9a9b-6104ff2bd086",
   "metadata": {},
   "outputs": [
    {
     "data": {
      "text/plain": [
       "9"
      ]
     },
     "execution_count": 183,
     "metadata": {},
     "output_type": "execute_result"
    }
   ],
   "source": [
    "np.argmin(k)   #argmin provide index value of min value"
   ]
  },
  {
   "cell_type": "code",
   "execution_count": 184,
   "id": "e3422e1f-ed12-4e58-944f-88f5863c51fe",
   "metadata": {},
   "outputs": [
    {
     "data": {
      "text/plain": [
       "array([1, 2, 3, 4, 5, 6, 7, 8, 9, 0])"
      ]
     },
     "execution_count": 184,
     "metadata": {},
     "output_type": "execute_result"
    }
   ],
   "source": [
    "k.flatten()"
   ]
  },
  {
   "cell_type": "code",
   "execution_count": 185,
   "id": "d3cd074a-e4bd-4725-a902-c155761f64f1",
   "metadata": {},
   "outputs": [
    {
     "data": {
      "text/plain": [
       "array([[1, 2, 3, 4, 5],\n",
       "       [6, 7, 8, 9, 0]])"
      ]
     },
     "execution_count": 185,
     "metadata": {},
     "output_type": "execute_result"
    }
   ],
   "source": [
    "k"
   ]
  },
  {
   "cell_type": "code",
   "execution_count": 186,
   "id": "d2e0af0e-c279-4d67-8818-69ea2b7eb790",
   "metadata": {},
   "outputs": [
    {
     "data": {
      "text/plain": [
       "8"
      ]
     },
     "execution_count": 186,
     "metadata": {},
     "output_type": "execute_result"
    }
   ],
   "source": [
    "np.argmax(k)"
   ]
  },
  {
   "cell_type": "code",
   "execution_count": 190,
   "id": "1064a43b-d5a2-4547-8831-60916daed945",
   "metadata": {},
   "outputs": [
    {
     "data": {
      "text/plain": [
       "array([4, 3], dtype=int64)"
      ]
     },
     "execution_count": 190,
     "metadata": {},
     "output_type": "execute_result"
    }
   ],
   "source": [
    "np.argmax(k,axis=1)   # it detect larger value's index row-wise\n",
    "# axis=1 means checking the value row wise and max value will provided by index no."
   ]
  },
  {
   "cell_type": "code",
   "execution_count": 189,
   "id": "d676278f-8f13-4ab4-b93a-2344eec448fc",
   "metadata": {},
   "outputs": [
    {
     "data": {
      "text/plain": [
       "array([1, 1, 1, 1, 0], dtype=int64)"
      ]
     },
     "execution_count": 189,
     "metadata": {},
     "output_type": "execute_result"
    }
   ],
   "source": [
    "np.argmax(k,axis=0)  \n",
    "# axis0 means checking the value column wise and max value result by index no."
   ]
  },
  {
   "cell_type": "code",
   "execution_count": 188,
   "id": "fda9c57b-4d78-4bcb-9c0f-04f55df05458",
   "metadata": {},
   "outputs": [
    {
     "data": {
      "text/plain": [
       "array([[1, 2, 3, 4, 5],\n",
       "       [6, 7, 8, 9, 0]])"
      ]
     },
     "execution_count": 188,
     "metadata": {},
     "output_type": "execute_result"
    }
   ],
   "source": [
    "k"
   ]
  },
  {
   "cell_type": "code",
   "execution_count": 191,
   "id": "9c79a3ad-e5a0-40d8-8189-de6c9565aecc",
   "metadata": {},
   "outputs": [
    {
     "data": {
      "text/plain": [
       "45"
      ]
     },
     "execution_count": 191,
     "metadata": {},
     "output_type": "execute_result"
    }
   ],
   "source": [
    "np.sum(k)"
   ]
  },
  {
   "cell_type": "code",
   "execution_count": 201,
   "id": "b84f0263-2b8d-4823-bac2-b361e3d5dec6",
   "metadata": {},
   "outputs": [
    {
     "data": {
      "text/plain": [
       "array([15, 30])"
      ]
     },
     "execution_count": 201,
     "metadata": {},
     "output_type": "execute_result"
    }
   ],
   "source": [
    "np.sum(k,axis=1)"
   ]
  },
  {
   "cell_type": "code",
   "execution_count": 202,
   "id": "09a11259-dd54-411d-8815-c1ca731c5f24",
   "metadata": {},
   "outputs": [
    {
     "name": "stdout",
     "output_type": "stream",
     "text": [
      "sum of all value in array: 45\n",
      "sum of all value according to row-wise in array: [15 30]\n"
     ]
    }
   ],
   "source": [
    "print(\"sum of all value in array:\",np.sum(k))\n",
    "print(\"sum of all value according to row-wise in array:\",np.sum(k,axis=1))"
   ]
  },
  {
   "cell_type": "code",
   "execution_count": 203,
   "id": "d27681fb-baa0-4c05-b1b6-07a2eb0b7d34",
   "metadata": {},
   "outputs": [
    {
     "data": {
      "text/plain": [
       "array([ 7,  9, 11, 13,  5])"
      ]
     },
     "execution_count": 203,
     "metadata": {},
     "output_type": "execute_result"
    }
   ],
   "source": [
    "np.sum(k,axis=0)"
   ]
  },
  {
   "cell_type": "code",
   "execution_count": 204,
   "id": "94841bbe-34ab-471a-9066-c7b684f1ddc6",
   "metadata": {},
   "outputs": [
    {
     "name": "stdout",
     "output_type": "stream",
     "text": [
      "sum of all value in array: 45\n",
      "sum of all value according to column-wise in array: [ 7  9 11 13  5]\n"
     ]
    }
   ],
   "source": [
    "print(\"sum of all value in array:\",np.sum(k))\n",
    "print(\"sum of all value according to column-wise in array:\",np.sum(k,axis=0))"
   ]
  },
  {
   "cell_type": "markdown",
   "id": "20a8dd5b-aada-4d67-8997-afa346d2f0d0",
   "metadata": {},
   "source": [
    "# argmin   and  argmax"
   ]
  },
  {
   "cell_type": "code",
   "execution_count": 205,
   "id": "7b2a3cf0-0f1b-4385-a570-49a0e1499634",
   "metadata": {},
   "outputs": [],
   "source": [
    "a=[3,4,5,2,5,4,7,4,2]"
   ]
  },
  {
   "cell_type": "code",
   "execution_count": 206,
   "id": "44974584-6eb8-4f2f-a1bd-8ccb18e68e1f",
   "metadata": {},
   "outputs": [
    {
     "data": {
      "text/plain": [
       "7"
      ]
     },
     "execution_count": 206,
     "metadata": {},
     "output_type": "execute_result"
    }
   ],
   "source": [
    "max(a)"
   ]
  },
  {
   "cell_type": "code",
   "execution_count": 207,
   "id": "9b2fed0c-0fd2-4172-8767-ea0f1bc6e047",
   "metadata": {},
   "outputs": [],
   "source": [
    "def new(arg):\n",
    "    arg.sort()\n",
    "    return arg"
   ]
  },
  {
   "cell_type": "code",
   "execution_count": 208,
   "id": "d8d400c8-c20f-44fd-85fa-6c9078eb3b9c",
   "metadata": {},
   "outputs": [
    {
     "data": {
      "text/plain": [
       "[2, 2, 3, 4, 4, 4, 5, 5, 7]"
      ]
     },
     "execution_count": 208,
     "metadata": {},
     "output_type": "execute_result"
    }
   ],
   "source": [
    "new(a)"
   ]
  },
  {
   "cell_type": "code",
   "execution_count": 222,
   "id": "a4643296-4d89-44bd-8718-dba447bc211d",
   "metadata": {},
   "outputs": [],
   "source": [
    "def new(arg):     #([14, 32, 82, 92, 21, 77, 84, 33, 67, 37])    #1234\n",
    "    counter=-1\n",
    "    drg=arg.copy()   #([14, 32, 82, 92, 21, 77, 84, 33, 67, 37])   #2345\n",
    "    drg.sort()       #[14, 21, 32, 33, 37, 67, 77, 82, 84, 92]     #2345\n",
    "    d=drg[-1]    #92\n",
    "    for i in a:     #([14, 32, 82, 92, 21, 77, 84, 33, 67, 37])    #1234\n",
    "        counter+=1\n",
    "        if i==d:      #i=92   d=92   #i==d   True\n",
    "            break\n",
    "    return counter    #counter count the index value"
   ]
  },
  {
   "cell_type": "code",
   "execution_count": 223,
   "id": "c6815c61-9285-4d11-a517-0a9f9b57dc28",
   "metadata": {},
   "outputs": [
    {
     "data": {
      "text/plain": [
       "8"
      ]
     },
     "execution_count": 223,
     "metadata": {},
     "output_type": "execute_result"
    }
   ],
   "source": [
    "new(a)"
   ]
  },
  {
   "cell_type": "code",
   "execution_count": 220,
   "id": "0db628ac-efe9-48dd-97cd-f44e2f469d5c",
   "metadata": {},
   "outputs": [
    {
     "data": {
      "text/plain": [
       "array([14, 32, 82, 92, 21, 77, 84, 33, 67, 37])"
      ]
     },
     "execution_count": 220,
     "metadata": {},
     "output_type": "execute_result"
    }
   ],
   "source": [
    "d=np.random.randint(1,100,10)\n",
    "d"
   ]
  },
  {
   "cell_type": "code",
   "execution_count": 221,
   "id": "97ec99a2-8e97-430d-8953-180c39ec83e5",
   "metadata": {},
   "outputs": [
    {
     "data": {
      "text/plain": [
       "8"
      ]
     },
     "execution_count": 221,
     "metadata": {},
     "output_type": "execute_result"
    }
   ],
   "source": [
    "new(d)"
   ]
  },
  {
   "cell_type": "code",
   "execution_count": 224,
   "id": "1b391253-4fd3-4a5d-a07e-a1c332122600",
   "metadata": {},
   "outputs": [
    {
     "data": {
      "text/plain": [
       "array([14, 21, 32, 33, 37, 67, 77, 82, 84, 92])"
      ]
     },
     "execution_count": 224,
     "metadata": {},
     "output_type": "execute_result"
    }
   ],
   "source": [
    "d.sort()\n",
    "d"
   ]
  },
  {
   "cell_type": "code",
   "execution_count": 226,
   "id": "091afbad-f1f3-4d42-9b45-86a1689f4b5c",
   "metadata": {},
   "outputs": [],
   "source": [
    "d=[14, 32, 82, 92, 21, 77, 84, 33, 67, 37]"
   ]
  },
  {
   "cell_type": "code",
   "execution_count": 227,
   "id": "bb1ec154-8ceb-41c0-8895-e230c06dc8b5",
   "metadata": {},
   "outputs": [
    {
     "data": {
      "text/plain": [
       "3"
      ]
     },
     "execution_count": 227,
     "metadata": {},
     "output_type": "execute_result"
    }
   ],
   "source": [
    "np.argmax(d)"
   ]
  },
  {
   "cell_type": "code",
   "execution_count": 228,
   "id": "ce962b1b-a0a0-4fb8-9a03-5363e50b2fc9",
   "metadata": {},
   "outputs": [
    {
     "data": {
      "text/plain": [
       "0"
      ]
     },
     "execution_count": 228,
     "metadata": {},
     "output_type": "execute_result"
    }
   ],
   "source": [
    "np.argmin(d)"
   ]
  },
  {
   "cell_type": "code",
   "execution_count": 229,
   "id": "7804d226-a995-4939-96d7-c3cec35c1014",
   "metadata": {},
   "outputs": [],
   "source": [
    "def old(arg):     #([14, 32, 82, 92, 21, 77, 84, 33, 67, 37])    #1234\n",
    "    counter=-1\n",
    "    drg=arg.copy()   #([14, 32, 82, 92, 21, 77, 84, 33, 67, 37])   #2345\n",
    "    drg.sort()       #[14, 21, 32, 33, 37, 67, 77, 82, 84, 92]     #2345\n",
    "    d=drg[0]    #92\n",
    "    for i in a:     #([14, 32, 82, 92, 21, 77, 84, 33, 67, 37])    #1234\n",
    "        counter+=1\n",
    "        if i==d:      #i=92   d=92   #i==d   True\n",
    "            break\n",
    "    return counter "
   ]
  },
  {
   "cell_type": "code",
   "execution_count": 230,
   "id": "db56b7fa-88e2-475f-88d4-d001b570e008",
   "metadata": {},
   "outputs": [
    {
     "data": {
      "text/plain": [
       "8"
      ]
     },
     "execution_count": 230,
     "metadata": {},
     "output_type": "execute_result"
    }
   ],
   "source": [
    "old(d)"
   ]
  },
  {
   "cell_type": "code",
   "execution_count": 231,
   "id": "67a09f80-0799-4a25-82a9-9a3f34de4f4c",
   "metadata": {},
   "outputs": [
    {
     "data": {
      "text/plain": [
       "[14, 32, 82, 92, 21, 77, 84, 33, 67, 37]"
      ]
     },
     "execution_count": 231,
     "metadata": {},
     "output_type": "execute_result"
    }
   ],
   "source": [
    "d"
   ]
  },
  {
   "cell_type": "code",
   "execution_count": 233,
   "id": "522e325b-fefc-44c6-b616-d3aa6a3470eb",
   "metadata": {},
   "outputs": [
    {
     "data": {
      "text/plain": [
       "array([[14, 32],\n",
       "       [82, 92],\n",
       "       [21, 77],\n",
       "       [84, 33],\n",
       "       [67, 37]])"
      ]
     },
     "execution_count": 233,
     "metadata": {},
     "output_type": "execute_result"
    }
   ],
   "source": [
    "e=np.reshape(d,(5,2))\n",
    "e"
   ]
  },
  {
   "cell_type": "code",
   "execution_count": 234,
   "id": "e65f78a2-2252-4f15-83e3-2060190ceb8e",
   "metadata": {},
   "outputs": [
    {
     "data": {
      "text/plain": [
       "0"
      ]
     },
     "execution_count": 234,
     "metadata": {},
     "output_type": "execute_result"
    }
   ],
   "source": [
    "np.argmin(e)"
   ]
  },
  {
   "cell_type": "code",
   "execution_count": 235,
   "id": "338e9664-8e83-4faf-bf33-1eaca8368cd2",
   "metadata": {},
   "outputs": [
    {
     "data": {
      "text/plain": [
       "3"
      ]
     },
     "execution_count": 235,
     "metadata": {},
     "output_type": "execute_result"
    }
   ],
   "source": [
    "np.argmax(e)"
   ]
  },
  {
   "cell_type": "code",
   "execution_count": 239,
   "id": "6273d004-54e7-403d-b0ca-6cb4fafe29bd",
   "metadata": {},
   "outputs": [],
   "source": [
    "def old(arg):     #([14, 32, 82, 92, 21, 77, 84, 33, 67, 37])    #1234\n",
    "    counter=-1\n",
    "    drg=arg.copy() #([14, 32, 82, 92, 21, 77, 84, 33, 67, 37])   #2345\n",
    "    a=arg.ndim\n",
    "    if a<2:\n",
    "        pass\n",
    "    else:\n",
    "        drg=drg.flatten()\n",
    "        arg=arg.flatten()\n",
    "    drg.sort()       #[14, 21, 32, 33, 37, 67, 77, 82, 84, 92]     #2345\n",
    "    d=drg[0]    #92\n",
    "    for i in arg:     #([14, 32, 82, 92, 21, 77, 84, 33, 67, 37])    #1234\n",
    "        counter+=1\n",
    "        if i==d:      #i=92   d=92   #i==d   True\n",
    "            break\n",
    "    return counter "
   ]
  },
  {
   "cell_type": "code",
   "execution_count": 236,
   "id": "2e36384a-1d88-4f24-91ab-42e56ff84cdf",
   "metadata": {},
   "outputs": [],
   "source": [
    "a=np.array([[2,3],[3,5]])"
   ]
  },
  {
   "cell_type": "code",
   "execution_count": 237,
   "id": "12e8c20a-d0a1-4848-bdd8-ac18f20a0d7e",
   "metadata": {},
   "outputs": [],
   "source": [
    "a.sort()"
   ]
  },
  {
   "cell_type": "code",
   "execution_count": 238,
   "id": "4f0305de-2bbd-40f1-a014-7232c321c8ce",
   "metadata": {},
   "outputs": [
    {
     "data": {
      "text/plain": [
       "array([2, 3, 3, 5])"
      ]
     },
     "execution_count": 238,
     "metadata": {},
     "output_type": "execute_result"
    }
   ],
   "source": [
    "a.flatten()"
   ]
  },
  {
   "cell_type": "code",
   "execution_count": 240,
   "id": "25c0d4eb-6ad5-4184-a551-e6ddf441ad52",
   "metadata": {},
   "outputs": [
    {
     "data": {
      "text/plain": [
       "0"
      ]
     },
     "execution_count": 240,
     "metadata": {},
     "output_type": "execute_result"
    }
   ],
   "source": [
    "old(a)"
   ]
  },
  {
   "cell_type": "code",
   "execution_count": 257,
   "id": "219f854a-0c65-4c19-a431-5569e0c7ffde",
   "metadata": {},
   "outputs": [
    {
     "data": {
      "text/plain": [
       "array([3, 1, 7, 3, 8, 3, 1, 5])"
      ]
     },
     "execution_count": 257,
     "metadata": {},
     "output_type": "execute_result"
    }
   ],
   "source": [
    "a=np.random.randint(1,10,8)\n",
    "a"
   ]
  },
  {
   "cell_type": "code",
   "execution_count": 258,
   "id": "e7ab34e5-8712-49ec-822c-39c41ae5f30c",
   "metadata": {},
   "outputs": [
    {
     "data": {
      "text/plain": [
       "array([[[3, 1, 7, 3],\n",
       "        [8, 3, 1, 5]]])"
      ]
     },
     "execution_count": 258,
     "metadata": {},
     "output_type": "execute_result"
    }
   ],
   "source": [
    "b=np.reshape(a,(1,2,4))\n",
    "b"
   ]
  },
  {
   "cell_type": "code",
   "execution_count": 259,
   "id": "5f29e65d-e86a-4a16-96c5-1fc3b6a137e9",
   "metadata": {},
   "outputs": [
    {
     "data": {
      "text/plain": [
       "array([3, 1, 7, 3])"
      ]
     },
     "execution_count": 259,
     "metadata": {},
     "output_type": "execute_result"
    }
   ],
   "source": [
    "b[0][0]"
   ]
  },
  {
   "cell_type": "code",
   "execution_count": 260,
   "id": "93a063da-209a-4837-9568-1ba595929f8b",
   "metadata": {},
   "outputs": [
    {
     "data": {
      "text/plain": [
       "3"
      ]
     },
     "execution_count": 260,
     "metadata": {},
     "output_type": "execute_result"
    }
   ],
   "source": [
    "b[0][0][0]"
   ]
  },
  {
   "cell_type": "code",
   "execution_count": 261,
   "id": "d1478287-a9b4-4c45-a8c0-b6d67137d16e",
   "metadata": {},
   "outputs": [
    {
     "data": {
      "text/plain": [
       "1"
      ]
     },
     "execution_count": 261,
     "metadata": {},
     "output_type": "execute_result"
    }
   ],
   "source": [
    "old(b)"
   ]
  },
  {
   "cell_type": "code",
   "execution_count": 264,
   "id": "45ccca85-3b33-43bf-8961-a2096343a91c",
   "metadata": {},
   "outputs": [
    {
     "data": {
      "text/plain": [
       "array([[0, 0, 0, 0],\n",
       "       [0, 0, 0, 0]], dtype=int64)"
      ]
     },
     "execution_count": 264,
     "metadata": {},
     "output_type": "execute_result"
    }
   ],
   "source": [
    "np.argmin(b,axis=0)"
   ]
  },
  {
   "cell_type": "code",
   "execution_count": 265,
   "id": "479c7ccc-70b0-4f05-a8bc-b22921a2121a",
   "metadata": {},
   "outputs": [
    {
     "data": {
      "text/plain": [
       "array([[3, 1, 7, 3],\n",
       "       [8, 3, 1, 5]])"
      ]
     },
     "execution_count": 265,
     "metadata": {},
     "output_type": "execute_result"
    }
   ],
   "source": [
    "b=np.reshape(a,(2,4))\n",
    "b"
   ]
  },
  {
   "cell_type": "code",
   "execution_count": 266,
   "id": "ea7f818d-f7d3-4896-9c30-c84ef6924d13",
   "metadata": {},
   "outputs": [
    {
     "data": {
      "text/plain": [
       "array([1, 2], dtype=int64)"
      ]
     },
     "execution_count": 266,
     "metadata": {},
     "output_type": "execute_result"
    }
   ],
   "source": [
    "np.argmin(b,axis=1)"
   ]
  },
  {
   "cell_type": "code",
   "execution_count": 267,
   "id": "a54e79f0-5caa-4bfe-be01-095b18a9e8ca",
   "metadata": {},
   "outputs": [
    {
     "data": {
      "text/plain": [
       "array([0, 0, 1, 0], dtype=int64)"
      ]
     },
     "execution_count": 267,
     "metadata": {},
     "output_type": "execute_result"
    }
   ],
   "source": [
    "np.argmin(b,axis=0)"
   ]
  },
  {
   "cell_type": "markdown",
   "id": "0726481c-53db-4da7-8ced-9fe60eb1a544",
   "metadata": {},
   "source": [
    "# Sorting"
   ]
  },
  {
   "cell_type": "code",
   "execution_count": 281,
   "id": "3dab196b-6516-47c1-9295-55d5300edec1",
   "metadata": {},
   "outputs": [
    {
     "data": {
      "text/plain": [
       "array([7, 2, 8, 9, 5, 8, 5, 7, 1, 2])"
      ]
     },
     "execution_count": 281,
     "metadata": {},
     "output_type": "execute_result"
    }
   ],
   "source": [
    "a=np.random.randint(1,10,10)\n",
    "a"
   ]
  },
  {
   "cell_type": "code",
   "execution_count": 277,
   "id": "abf594d9-ce86-414b-b5b2-db021cf0668a",
   "metadata": {},
   "outputs": [],
   "source": [
    "a.sort()"
   ]
  },
  {
   "cell_type": "code",
   "execution_count": 278,
   "id": "7a242989-3e07-4ad8-981b-c7dd87fd93b0",
   "metadata": {},
   "outputs": [
    {
     "data": {
      "text/plain": [
       "array([1, 1, 2, 2, 3, 4, 4, 8, 9, 9])"
      ]
     },
     "execution_count": 278,
     "metadata": {},
     "output_type": "execute_result"
    }
   ],
   "source": [
    "a"
   ]
  },
  {
   "cell_type": "code",
   "execution_count": 282,
   "id": "81048034-bf76-4fed-a7b0-f267cc967a83",
   "metadata": {},
   "outputs": [
    {
     "data": {
      "text/plain": [
       "array([[7, 2],\n",
       "       [8, 9],\n",
       "       [5, 8],\n",
       "       [5, 7],\n",
       "       [1, 2]])"
      ]
     },
     "execution_count": 282,
     "metadata": {},
     "output_type": "execute_result"
    }
   ],
   "source": [
    "b=np.resize(a,(5,2))\n",
    "b"
   ]
  },
  {
   "cell_type": "code",
   "execution_count": 285,
   "id": "54f54f78-9f98-4d0d-bac4-70452532ba63",
   "metadata": {},
   "outputs": [
    {
     "data": {
      "text/plain": [
       "array([[1, 2],\n",
       "       [2, 7],\n",
       "       [5, 7],\n",
       "       [5, 8],\n",
       "       [8, 9]])"
      ]
     },
     "execution_count": 285,
     "metadata": {},
     "output_type": "execute_result"
    }
   ],
   "source": [
    "b.sort(axis=0)   #column wise sorting ki h bydefault row-wise krta\n",
    "b"
   ]
  },
  {
   "cell_type": "code",
   "execution_count": 287,
   "id": "396f93e8-fb96-4375-8e4d-5e4d84788657",
   "metadata": {},
   "outputs": [
    {
     "data": {
      "text/plain": [
       "array([1, 2, 2, 7, 5, 7, 5, 8, 8, 9])"
      ]
     },
     "execution_count": 287,
     "metadata": {},
     "output_type": "execute_result"
    }
   ],
   "source": [
    "c=b.flatten()\n",
    "c"
   ]
  },
  {
   "cell_type": "code",
   "execution_count": 288,
   "id": "4a544d6b-30df-4238-8e30-702e263fabd6",
   "metadata": {},
   "outputs": [
    {
     "data": {
      "text/plain": [
       "array([ 1,  4,  4, 49, 25, 49, 25, 64, 64, 81])"
      ]
     },
     "execution_count": 288,
     "metadata": {},
     "output_type": "execute_result"
    }
   ],
   "source": [
    "np.square(c)"
   ]
  },
  {
   "cell_type": "code",
   "execution_count": 289,
   "id": "44c3b16e-8f0b-4036-9020-78bc97faa335",
   "metadata": {},
   "outputs": [
    {
     "data": {
      "text/plain": [
       "array([1, 2, 2, 7, 5, 7, 5, 8, 8, 9])"
      ]
     },
     "execution_count": 289,
     "metadata": {},
     "output_type": "execute_result"
    }
   ],
   "source": [
    "c"
   ]
  },
  {
   "cell_type": "code",
   "execution_count": 293,
   "id": "843f20e7-11c5-4c59-ad12-101ac0dd40fb",
   "metadata": {},
   "outputs": [
    {
     "data": {
      "text/plain": [
       "array([1.        , 1.41421356, 1.41421356, 2.64575131, 2.23606798,\n",
       "       2.64575131, 2.23606798, 2.82842712, 2.82842712, 3.        ])"
      ]
     },
     "execution_count": 293,
     "metadata": {},
     "output_type": "execute_result"
    }
   ],
   "source": [
    "f=np.sqrt(c)\n",
    "f"
   ]
  },
  {
   "cell_type": "code",
   "execution_count": 296,
   "id": "2e5d5a99-efe0-402f-8c01-76ce74ea76ac",
   "metadata": {},
   "outputs": [
    {
     "data": {
      "text/plain": [
       "array([1.  , 1.41, 1.41, 2.65, 2.24, 2.65, 2.24, 2.83, 2.83, 3.  ])"
      ]
     },
     "execution_count": 296,
     "metadata": {},
     "output_type": "execute_result"
    }
   ],
   "source": [
    "g=np.round(f,decimals=2)\n",
    "g"
   ]
  },
  {
   "cell_type": "code",
   "execution_count": 299,
   "id": "b583b61d-0fa8-4c6f-84ac-d5118f0f60c3",
   "metadata": {},
   "outputs": [
    {
     "data": {
      "text/plain": [
       "array([1, 1, 1, 2, 2, 2, 2, 2, 2, 3], dtype=int16)"
      ]
     },
     "execution_count": 299,
     "metadata": {},
     "output_type": "execute_result"
    }
   ],
   "source": [
    "np.array(g,dtype=np.int16)     #change in datatype"
   ]
  },
  {
   "cell_type": "code",
   "execution_count": 300,
   "id": "9b2b71fe-212e-4cd5-98e9-b5a7b2b5657d",
   "metadata": {},
   "outputs": [
    {
     "data": {
      "text/plain": [
       "-1.995200412208242"
      ]
     },
     "execution_count": 300,
     "metadata": {},
     "output_type": "execute_result"
    }
   ],
   "source": [
    "np.tan(90)"
   ]
  },
  {
   "cell_type": "code",
   "execution_count": 306,
   "id": "799550ba-853f-474e-9a08-167707723628",
   "metadata": {},
   "outputs": [
    {
     "name": "stdout",
     "output_type": "stream",
     "text": [
      "[0 1 2 3 4 5 6 7 8 9]\n"
     ]
    },
    {
     "name": "stderr",
     "output_type": "stream",
     "text": [
      "C:\\Users\\Dell\\AppData\\Local\\Temp\\ipykernel_1740\\50215680.py:3: RuntimeWarning: divide by zero encountered in log\n",
      "  np.log(a)          #inf means infinte\n"
     ]
    },
    {
     "data": {
      "text/plain": [
       "array([      -inf, 0.        , 0.69314718, 1.09861229, 1.38629436,\n",
       "       1.60943791, 1.79175947, 1.94591015, 2.07944154, 2.19722458])"
      ]
     },
     "execution_count": 306,
     "metadata": {},
     "output_type": "execute_result"
    }
   ],
   "source": [
    "a=np.array([i for i in range(10)])\n",
    "print(a)\n",
    "np.log(a)          #inf means infinte"
   ]
  },
  {
   "cell_type": "code",
   "execution_count": 307,
   "id": "1c6c430c-5b0d-447c-9cc9-d204c9470b53",
   "metadata": {},
   "outputs": [
    {
     "data": {
      "text/plain": [
       "array([0, 1, 2, 3, 4, 5, 6, 7, 8, 9])"
      ]
     },
     "execution_count": 307,
     "metadata": {},
     "output_type": "execute_result"
    }
   ],
   "source": [
    "b=np.array(np.arange(10))\n",
    "b"
   ]
  },
  {
   "cell_type": "code",
   "execution_count": 308,
   "id": "a2647ab4-96df-466a-be22-055cd2691059",
   "metadata": {},
   "outputs": [
    {
     "data": {
      "text/plain": [
       "array([0, 1, 2, 3, 4, 5, 6, 7, 8, 9])"
      ]
     },
     "execution_count": 308,
     "metadata": {},
     "output_type": "execute_result"
    }
   ],
   "source": [
    "np.arange(10)"
   ]
  },
  {
   "cell_type": "code",
   "execution_count": 309,
   "id": "1363230f-549f-4956-945d-9b2f39169aeb",
   "metadata": {},
   "outputs": [
    {
     "data": {
      "text/plain": [
       "array([ 0.        ,  1.55740772, -2.18503986, -0.14254654,  1.15782128,\n",
       "       -3.38051501, -0.29100619,  0.87144798, -6.79971146, -0.45231566])"
      ]
     },
     "execution_count": 309,
     "metadata": {},
     "output_type": "execute_result"
    }
   ],
   "source": [
    "np.tan(b)"
   ]
  },
  {
   "cell_type": "code",
   "execution_count": 310,
   "id": "44a52bf5-849b-44fa-b865-557121ebe3af",
   "metadata": {},
   "outputs": [
    {
     "name": "stderr",
     "output_type": "stream",
     "text": [
      "C:\\Users\\Dell\\AppData\\Local\\Temp\\ipykernel_1740\\3416214235.py:1: RuntimeWarning: divide by zero encountered in log10\n",
      "  np.log10(b)\n"
     ]
    },
    {
     "data": {
      "text/plain": [
       "array([      -inf, 0.        , 0.30103   , 0.47712125, 0.60205999,\n",
       "       0.69897   , 0.77815125, 0.84509804, 0.90308999, 0.95424251])"
      ]
     },
     "execution_count": 310,
     "metadata": {},
     "output_type": "execute_result"
    }
   ],
   "source": [
    "np.log10(b)"
   ]
  },
  {
   "cell_type": "code",
   "execution_count": 311,
   "id": "0a59d457-5d7c-4057-bdb6-369828bd54de",
   "metadata": {},
   "outputs": [
    {
     "data": {
      "text/plain": [
       "array([ 1.        ,  0.54030231, -0.41614684, -0.9899925 , -0.65364362,\n",
       "        0.28366219,  0.96017029,  0.75390225, -0.14550003, -0.91113026])"
      ]
     },
     "execution_count": 311,
     "metadata": {},
     "output_type": "execute_result"
    }
   ],
   "source": [
    "np.cos(b)"
   ]
  },
  {
   "cell_type": "code",
   "execution_count": 314,
   "id": "79aa3620-4b0e-4ac6-bf4d-4f1264449fc2",
   "metadata": {},
   "outputs": [
    {
     "data": {
      "text/plain": [
       "array([[1, 2, 3],\n",
       "       [4, 5, 6]])"
      ]
     },
     "execution_count": 314,
     "metadata": {},
     "output_type": "execute_result"
    }
   ],
   "source": [
    "np.arange(1,7)\n",
    "np.resize(np.arange(1,7),(2,3))"
   ]
  },
  {
   "cell_type": "code",
   "execution_count": 319,
   "id": "ba22aab4-8f03-49bd-a830-e1399b2ac332",
   "metadata": {},
   "outputs": [
    {
     "data": {
      "text/plain": [
       "array([[1, 2, 3],\n",
       "       [4, 5, 6]])"
      ]
     },
     "execution_count": 319,
     "metadata": {},
     "output_type": "execute_result"
    }
   ],
   "source": [
    "a=np.arange(1,7)\n",
    "b=np.resize(a,(2,3))\n",
    "b"
   ]
  },
  {
   "cell_type": "code",
   "execution_count": 320,
   "id": "b28b551f-4e23-48e0-a8d4-34b652d87f6b",
   "metadata": {},
   "outputs": [
    {
     "data": {
      "text/plain": [
       "array([[1, 4],\n",
       "       [2, 5],\n",
       "       [3, 6]])"
      ]
     },
     "execution_count": 320,
     "metadata": {},
     "output_type": "execute_result"
    }
   ],
   "source": [
    "np.transpose(b)"
   ]
  },
  {
   "cell_type": "code",
   "execution_count": 322,
   "id": "7e34f2ab-ae9a-4699-bb99-a0ba07bc3687",
   "metadata": {},
   "outputs": [
    {
     "data": {
      "text/plain": [
       "array([[1, 4],\n",
       "       [2, 5],\n",
       "       [3, 6]])"
      ]
     },
     "execution_count": 322,
     "metadata": {},
     "output_type": "execute_result"
    }
   ],
   "source": [
    "b.T  #transpose"
   ]
  },
  {
   "cell_type": "code",
   "execution_count": 326,
   "id": "60358301-0bbd-4f85-bf8e-b0150cc29cfc",
   "metadata": {},
   "outputs": [
    {
     "data": {
      "text/plain": [
       "21"
      ]
     },
     "execution_count": 326,
     "metadata": {},
     "output_type": "execute_result"
    }
   ],
   "source": [
    "b.sum()   #class p work krra"
   ]
  },
  {
   "cell_type": "code",
   "execution_count": 327,
   "id": "8ad3723c-b469-468a-8458-b31f0e95f0cc",
   "metadata": {},
   "outputs": [
    {
     "data": {
      "text/plain": [
       "21"
      ]
     },
     "execution_count": 327,
     "metadata": {},
     "output_type": "execute_result"
    }
   ],
   "source": [
    "np.sum(b)     #function p work krra"
   ]
  },
  {
   "cell_type": "code",
   "execution_count": 328,
   "id": "47edfc83-2b4f-4482-aa49-e1008875942a",
   "metadata": {},
   "outputs": [
    {
     "data": {
      "text/plain": [
       "1"
      ]
     },
     "execution_count": 328,
     "metadata": {},
     "output_type": "execute_result"
    }
   ],
   "source": [
    "b.min()"
   ]
  },
  {
   "cell_type": "code",
   "execution_count": 329,
   "id": "28d4562f-4966-440b-b521-039f4f08cc9e",
   "metadata": {},
   "outputs": [
    {
     "data": {
      "text/plain": [
       "1"
      ]
     },
     "execution_count": 329,
     "metadata": {},
     "output_type": "execute_result"
    }
   ],
   "source": [
    "np.min(b)"
   ]
  },
  {
   "cell_type": "code",
   "execution_count": null,
   "id": "462e3c6e-fb56-4eef-872d-4f537c712a4d",
   "metadata": {},
   "outputs": [],
   "source": []
  }
 ],
 "metadata": {
  "kernelspec": {
   "display_name": "Python 3 (ipykernel)",
   "language": "python",
   "name": "python3"
  },
  "language_info": {
   "codemirror_mode": {
    "name": "ipython",
    "version": 3
   },
   "file_extension": ".py",
   "mimetype": "text/x-python",
   "name": "python",
   "nbconvert_exporter": "python",
   "pygments_lexer": "ipython3",
   "version": "3.11.1"
  }
 },
 "nbformat": 4,
 "nbformat_minor": 5
}
